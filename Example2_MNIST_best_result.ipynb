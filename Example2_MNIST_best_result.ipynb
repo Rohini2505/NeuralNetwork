{
 "cells": [
  {
   "cell_type": "code",
   "execution_count": 1,
   "metadata": {
    "collapsed": true
   },
   "outputs": [],
   "source": [
    "import pickle\n",
    "%run NeuralNet2.ipynb\n",
    "train_x = pickle.load(open(\"MNIST_train_x.pkl\", 'rb'))\n",
    "train_y = pickle.load(open(\"MNIST_train_y.pkl\", 'rb'))\n",
    "test_x = pickle.load(open(\"MNIST_test_x.pkl\", 'rb'))\n",
    "test_y = pickle.load(open(\"MNIST_test_y.pkl\", 'rb'))"
   ]
  },
  {
   "cell_type": "code",
   "execution_count": 2,
   "metadata": {
    "collapsed": false
   },
   "outputs": [
    {
     "name": "stdout",
     "output_type": "stream",
     "text": [
      "train_x shape (60000, 784)\n",
      "train_y shape (60000, 10)\n",
      "test_x shape (10000, 784)\n",
      "test_y shape (10000, 10)\n"
     ]
    }
   ],
   "source": [
    "print('train_x shape ' + str(train_x.shape))\n",
    "print('train_y shape ' + str(train_y.shape))\n",
    "print('test_x shape ' + str(test_x.shape))\n",
    "print('test_y shape ' + str(test_y.shape))\n",
    "short_train_x = train_x[0:20000,:]\n",
    "short_train_y = train_y[0:20000,:]"
   ]
  },
  {
   "cell_type": "code",
   "execution_count": 3,
   "metadata": {
    "collapsed": false
   },
   "outputs": [
    {
     "name": "stdout",
     "output_type": "stream",
     "text": [
      "Training cost at start of training is 6.22184 and accuracy is 9.47%\n",
      "Validation set accuracy is 9.46%\n",
      "Training cost in epoch 0 is 0.37377 and accuracy is 90.17%\n",
      "Validation set accuracy is 90.20%\n",
      "Training cost in epoch 20 is 0.10469 and accuracy is 97.61%\n",
      "Validation set accuracy is 96.05%\n",
      "Training cost in epoch 40 is 0.10980 and accuracy is 97.80%\n",
      "Validation set accuracy is 96.22%\n",
      "Training cost in epoch 60 is 0.13017 and accuracy is 97.70%\n",
      "Validation set accuracy is 96.19%\n",
      "Training cost in epoch 80 is 0.14882 and accuracy is 97.62%\n",
      "Validation set accuracy is 96.23%\n",
      "Training cost in epoch 100 is 0.15806 and accuracy is 97.62%\n",
      "Validation set accuracy is 96.19%\n",
      "Final test cost is 0.15806\n",
      "Accuracy on training data is 97.62%, and accuracy on validation data is 96.19%\n"
     ]
    }
   ],
   "source": [
    "net2 = NeuralNet((784,100,10), LogLikelihoodCost, ReluActivation, SoftmaxActivation)\n",
    "net2.initialize_variables_alt()\n",
    "learning_rate = 0.0001\n",
    "epochs = 101\n",
    "reporting_rate = 20\n",
    "lmda = 0.5\n",
    "batch_size = 100\n",
    "training_cost, valid_cost = net2.SGD(train_x, train_y, test_x, test_y, learning_rate, \\\n",
    "        epochs, reporting_rate, lmda, batch_size, verbose=False)"
   ]
  }
 ],
 "metadata": {
  "kernelspec": {
   "display_name": "Python 3",
   "language": "python",
   "name": "python3"
  },
  "language_info": {
   "codemirror_mode": {
    "name": "ipython",
    "version": 3
   },
   "file_extension": ".py",
   "mimetype": "text/x-python",
   "name": "python",
   "nbconvert_exporter": "python",
   "pygments_lexer": "ipython3",
   "version": "3.5.1"
  }
 },
 "nbformat": 4,
 "nbformat_minor": 0
}
