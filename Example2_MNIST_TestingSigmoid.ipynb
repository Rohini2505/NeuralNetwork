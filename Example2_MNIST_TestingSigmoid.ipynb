{
 "cells": [
  {
   "cell_type": "markdown",
   "metadata": {},
   "source": [
    "## This notebook tests the performance of a Sigmoid hidden layer using different output layers, cost functions, learning rates and batch sizes"
   ]
  },
  {
   "cell_type": "code",
   "execution_count": 2,
   "metadata": {
    "collapsed": true
   },
   "outputs": [],
   "source": [
    "import pickle\n",
    "%run NeuralNet2.ipynb\n",
    "train_x = pickle.load(open(\"MNIST_train_x.pkl\", 'rb'))\n",
    "train_y = pickle.load(open(\"MNIST_train_y.pkl\", 'rb'))\n",
    "test_x = pickle.load(open(\"MNIST_test_x.pkl\", 'rb'))\n",
    "test_y = pickle.load(open(\"MNIST_test_y.pkl\", 'rb'))\n",
    "short_train_x = train_x[0:5000,:]\n",
    "short_train_y = train_y[0:5000,:]"
   ]
  },
  {
   "cell_type": "markdown",
   "metadata": {},
   "source": [
    "## Testing Sigmoid with Quadratic Cost, Sigmoid output layer and different learning rates"
   ]
  },
  {
   "cell_type": "code",
   "execution_count": 2,
   "metadata": {
    "collapsed": false
   },
   "outputs": [
    {
     "name": "stdout",
     "output_type": "stream",
     "text": [
      "Training cost at start of training is 0.98258 and accuracy is 11.18%\n",
      "Validation set accuracy is 11.48%\n",
      "Training cost in epoch 0 is 0.37142 and accuracy is 43.30%\n",
      "Validation set accuracy is 42.68%\n",
      "Training cost in epoch 20 is 0.11457 and accuracy is 88.74%\n",
      "Validation set accuracy is 86.72%\n",
      "Training cost in epoch 40 is 0.11053 and accuracy is 87.70%\n",
      "Validation set accuracy is 85.18%\n",
      "Training cost in epoch 60 is 0.09117 and accuracy is 89.88%\n",
      "Validation set accuracy is 87.06%\n",
      "Final test cost is 0.09117\n",
      "Accuracy on training data is 89.88%, and accuracy on validation data is 87.06%\n",
      "Training cost at start of training is 0.98258 and accuracy is 11.18%\n",
      "Validation set accuracy is 11.48%\n",
      "Training cost in epoch 0 is 0.39344 and accuracy is 56.88%\n",
      "Validation set accuracy is 55.38%\n",
      "Training cost in epoch 20 is 0.09226 and accuracy is 93.90%\n",
      "Validation set accuracy is 89.36%\n",
      "Training cost in epoch 40 is 0.05395 and accuracy is 96.26%\n",
      "Validation set accuracy is 90.55%\n",
      "Training cost in epoch 60 is 0.03855 and accuracy is 97.14%\n",
      "Validation set accuracy is 90.68%\n",
      "Final test cost is 0.03855\n",
      "Accuracy on training data is 97.14%, and accuracy on validation data is 90.68%\n",
      "Training cost at start of training is 0.98258 and accuracy is 11.18%\n",
      "Validation set accuracy is 11.48%\n",
      "Training cost in epoch 0 is 0.53449 and accuracy is 18.36%\n",
      "Validation set accuracy is 18.41%\n",
      "Training cost in epoch 20 is 0.33385 and accuracy is 70.26%\n",
      "Validation set accuracy is 66.51%\n",
      "Training cost in epoch 40 is 0.26301 and accuracy is 81.34%\n",
      "Validation set accuracy is 76.38%\n",
      "Training cost in epoch 60 is 0.21182 and accuracy is 87.48%\n",
      "Validation set accuracy is 82.00%\n",
      "Final test cost is 0.21182\n",
      "Accuracy on training data is 87.48%, and accuracy on validation data is 82.00%\n",
      "Training cost at start of training is 0.98258 and accuracy is 11.18%\n",
      "Validation set accuracy is 11.48%\n",
      "Training cost in epoch 0 is 0.86496 and accuracy is 12.08%\n",
      "Validation set accuracy is 11.92%\n",
      "Training cost in epoch 20 is 0.46805 and accuracy is 30.44%\n",
      "Validation set accuracy is 30.18%\n",
      "Training cost in epoch 40 is 0.43016 and accuracy is 45.34%\n",
      "Validation set accuracy is 43.64%\n",
      "Training cost in epoch 60 is 0.41222 and accuracy is 52.20%\n",
      "Validation set accuracy is 50.22%\n",
      "Final test cost is 0.41222\n",
      "Accuracy on training data is 52.20%, and accuracy on validation data is 50.22%\n"
     ]
    },
    {
     "name": "stderr",
     "output_type": "stream",
     "text": [
      "/Users/lauragraesser/anaconda3/anaconda/lib/python3.5/site-packages/ipykernel/__main__.py:164: RuntimeWarning: overflow encountered in exp\n"
     ]
    }
   ],
   "source": [
    "net2 = NeuralNet((784,100,10), QuadraticCost, SigmoidActivation, SigmoidActivation)\n",
    "net2.initialize_variables()\n",
    "learning_rate = 1\n",
    "epochs = 61\n",
    "reporting_rate = 20\n",
    "lmda = 0\n",
    "batch_size = 200\n",
    "training_cost, valid_cost = net2.SGD(short_train_x, short_train_y, test_x, test_y, learning_rate, \\\n",
    "        epochs, reporting_rate, lmda, batch_size, verbose=False)\n",
    "\n",
    "net2 = NeuralNet((784,100,10), QuadraticCost, SigmoidActivation, SigmoidActivation)\n",
    "net2.initialize_variables()\n",
    "learning_rate = 0.1\n",
    "epochs = 61\n",
    "reporting_rate = 20\n",
    "lmda = 0\n",
    "batch_size = 200\n",
    "training_cost, valid_cost = net2.SGD(short_train_x, short_train_y, test_x, test_y, learning_rate, \\\n",
    "        epochs, reporting_rate, lmda, batch_size, verbose=False)\n",
    "\n",
    "net2 = NeuralNet((784,100,10), QuadraticCost, SigmoidActivation, SigmoidActivation)\n",
    "net2.initialize_variables()\n",
    "learning_rate = 0.01\n",
    "epochs = 61\n",
    "reporting_rate = 20\n",
    "lmda = 0\n",
    "batch_size = 200\n",
    "training_cost, valid_cost = net2.SGD(short_train_x, short_train_y, test_x, test_y, learning_rate, \\\n",
    "        epochs, reporting_rate, lmda, batch_size, verbose=False)\n",
    "\n",
    "net2 = NeuralNet((784,100,10), QuadraticCost, SigmoidActivation, SigmoidActivation)\n",
    "net2.initialize_variables()\n",
    "learning_rate = 0.001\n",
    "epochs = 61\n",
    "reporting_rate = 20\n",
    "lmda = 0\n",
    "batch_size = 200\n",
    "training_cost, valid_cost = net2.SGD(short_train_x, short_train_y, test_x, test_y, learning_rate, \\\n",
    "        epochs, reporting_rate, lmda, batch_size, verbose=False)"
   ]
  },
  {
   "cell_type": "markdown",
   "metadata": {},
   "source": [
    "## Testing Sigmoid with Cross Entropy Cost, Sigmoid output layer and different learning rates"
   ]
  },
  {
   "cell_type": "code",
   "execution_count": 3,
   "metadata": {
    "collapsed": false
   },
   "outputs": [
    {
     "name": "stdout",
     "output_type": "stream",
     "text": [
      "Training cost at start of training is 5.78668 and accuracy is 11.18%\n",
      "Validation set accuracy is 11.48%\n",
      "Training cost in epoch 0 is 4.98120 and accuracy is 11.28%\n",
      "Validation set accuracy is 11.07%\n",
      "Training cost in epoch 20 is 4.57024 and accuracy is 23.52%\n",
      "Validation set accuracy is 22.56%\n",
      "Training cost in epoch 40 is 4.53290 and accuracy is 27.34%\n",
      "Validation set accuracy is 25.88%\n",
      "Training cost in epoch 60 is 5.12309 and accuracy is 25.44%\n",
      "Validation set accuracy is 25.01%\n",
      "Final test cost is 5.12309\n",
      "Accuracy on training data is 25.44%, and accuracy on validation data is 25.01%\n",
      "Training cost at start of training is 5.78668 and accuracy is 11.18%\n",
      "Validation set accuracy is 11.48%\n",
      "Training cost in epoch 0 is 2.31695 and accuracy is 69.98%\n",
      "Validation set accuracy is 68.46%\n",
      "Training cost in epoch 20 is 0.68108 and accuracy is 92.06%\n",
      "Validation set accuracy is 89.13%\n",
      "Training cost in epoch 40 is 0.53956 and accuracy is 93.10%\n",
      "Validation set accuracy is 89.40%\n",
      "Training cost in epoch 60 is 0.49077 and accuracy is 93.72%\n",
      "Validation set accuracy is 90.38%\n",
      "Final test cost is 0.49077\n",
      "Accuracy on training data is 93.72%, and accuracy on validation data is 90.38%\n",
      "Training cost at start of training is 5.78668 and accuracy is 11.18%\n",
      "Validation set accuracy is 11.48%\n",
      "Training cost in epoch 0 is 2.99504 and accuracy is 51.18%\n",
      "Validation set accuracy is 50.03%\n",
      "Training cost in epoch 20 is 1.17892 and accuracy is 92.10%\n",
      "Validation set accuracy is 87.70%\n",
      "Training cost in epoch 40 is 0.74419 and accuracy is 95.10%\n",
      "Validation set accuracy is 89.34%\n",
      "Training cost in epoch 60 is 0.55448 and accuracy is 96.12%\n",
      "Validation set accuracy is 89.66%\n",
      "Final test cost is 0.55448\n",
      "Accuracy on training data is 96.12%, and accuracy on validation data is 89.66%\n",
      "Training cost at start of training is 5.78668 and accuracy is 11.18%\n",
      "Validation set accuracy is 11.48%\n",
      "Training cost in epoch 0 is 4.38222 and accuracy is 13.64%\n",
      "Validation set accuracy is 13.74%\n",
      "Training cost in epoch 20 is 2.70458 and accuracy is 69.64%\n",
      "Validation set accuracy is 66.78%\n",
      "Training cost in epoch 40 is 2.36458 and accuracy is 79.18%\n",
      "Validation set accuracy is 74.64%\n",
      "Training cost in epoch 60 is 2.12200 and accuracy is 83.74%\n",
      "Validation set accuracy is 78.23%\n",
      "Final test cost is 2.12200\n",
      "Accuracy on training data is 83.74%, and accuracy on validation data is 78.23%\n"
     ]
    },
    {
     "name": "stderr",
     "output_type": "stream",
     "text": [
      "/Users/lauragraesser/anaconda3/anaconda/lib/python3.5/site-packages/ipykernel/__main__.py:164: RuntimeWarning: overflow encountered in exp\n"
     ]
    }
   ],
   "source": [
    "net2 = NeuralNet((784,100,10), CrossEntropyCost, SigmoidActivation, SigmoidActivation)\n",
    "net2.initialize_variables()\n",
    "learning_rate = 1\n",
    "epochs = 61\n",
    "reporting_rate = 20\n",
    "lmda = 0\n",
    "batch_size = 200\n",
    "training_cost, valid_cost = net2.SGD(short_train_x, short_train_y, test_x, test_y, learning_rate, \\\n",
    "        epochs, reporting_rate, lmda, batch_size, verbose=False)\n",
    "\n",
    "net2 = NeuralNet((784,100,10), CrossEntropyCost, SigmoidActivation, SigmoidActivation)\n",
    "net2.initialize_variables()\n",
    "learning_rate = 0.1\n",
    "epochs = 61\n",
    "reporting_rate = 20\n",
    "lmda = 0\n",
    "batch_size = 200\n",
    "training_cost, valid_cost = net2.SGD(short_train_x, short_train_y, test_x, test_y, learning_rate, \\\n",
    "        epochs, reporting_rate, lmda, batch_size, verbose=False)\n",
    "\n",
    "net2 = NeuralNet((784,100,10), CrossEntropyCost, SigmoidActivation, SigmoidActivation)\n",
    "net2.initialize_variables()\n",
    "learning_rate = 0.01\n",
    "epochs = 61\n",
    "reporting_rate = 20\n",
    "lmda = 0\n",
    "batch_size = 200\n",
    "training_cost, valid_cost = net2.SGD(short_train_x, short_train_y, test_x, test_y, learning_rate, \\\n",
    "        epochs, reporting_rate, lmda, batch_size, verbose=False)\n",
    "\n",
    "net2 = NeuralNet((784,100,10), CrossEntropyCost, SigmoidActivation, SigmoidActivation)\n",
    "net2.initialize_variables()\n",
    "learning_rate = 0.001\n",
    "epochs = 61\n",
    "reporting_rate = 20\n",
    "lmda = 0\n",
    "batch_size = 200\n",
    "training_cost, valid_cost = net2.SGD(short_train_x, short_train_y, test_x, test_y, learning_rate, \\\n",
    "        epochs, reporting_rate, lmda, batch_size, verbose=False)"
   ]
  },
  {
   "cell_type": "markdown",
   "metadata": {},
   "source": [
    "## Testing Sigmoid with Log Likelihood Cost, Softmax output layer and different learning rates"
   ]
  },
  {
   "cell_type": "code",
   "execution_count": 4,
   "metadata": {
    "collapsed": false
   },
   "outputs": [
    {
     "name": "stdout",
     "output_type": "stream",
     "text": [
      "Training cost at start of training is 2.43833 and accuracy is 11.18%\n",
      "Validation set accuracy is 11.48%\n",
      "Training cost in epoch 0 is 2.34181 and accuracy is 26.98%\n",
      "Validation set accuracy is 27.14%\n",
      "Training cost in epoch 20 is 1.95795 and accuracy is 49.10%\n",
      "Validation set accuracy is 45.71%\n",
      "Training cost in epoch 40 is 1.65981 and accuracy is 40.94%\n",
      "Validation set accuracy is 39.09%\n",
      "Training cost in epoch 60 is 1.43911 and accuracy is 47.06%\n",
      "Validation set accuracy is 45.12%\n",
      "Final test cost is 1.43911\n",
      "Accuracy on training data is 47.06%, and accuracy on validation data is 45.12%\n",
      "Training cost at start of training is 2.43833 and accuracy is 11.18%\n",
      "Validation set accuracy is 11.48%\n",
      "Training cost in epoch 0 is 1.14218 and accuracy is 78.98%\n",
      "Validation set accuracy is 76.72%\n",
      "Training cost in epoch 20 is 0.26644 and accuracy is 94.22%\n",
      "Validation set accuracy is 90.58%\n",
      "Training cost in epoch 40 is 0.19638 and accuracy is 95.04%\n",
      "Validation set accuracy is 90.73%\n",
      "Training cost in epoch 60 is 0.18995 and accuracy is 95.06%\n",
      "Validation set accuracy is 90.74%\n",
      "Final test cost is 0.18995\n",
      "Accuracy on training data is 95.06%, and accuracy on validation data is 90.74%\n",
      "Training cost at start of training is 2.43833 and accuracy is 11.18%\n",
      "Validation set accuracy is 11.48%\n",
      "Training cost in epoch 0 is 1.84636 and accuracy is 54.18%\n",
      "Validation set accuracy is 53.42%\n",
      "Training cost in epoch 20 is 0.46467 and accuracy is 93.14%\n",
      "Validation set accuracy is 88.44%\n",
      "Training cost in epoch 40 is 0.27497 and accuracy is 95.60%\n",
      "Validation set accuracy is 89.54%\n",
      "Training cost in epoch 60 is 0.21092 and accuracy is 96.20%\n",
      "Validation set accuracy is 89.73%\n",
      "Final test cost is 0.21092\n",
      "Accuracy on training data is 96.20%, and accuracy on validation data is 89.73%\n",
      "Training cost at start of training is 2.43833 and accuracy is 11.18%\n",
      "Validation set accuracy is 11.48%\n",
      "Training cost in epoch 0 is 2.31973 and accuracy is 15.04%\n",
      "Validation set accuracy is 14.22%\n",
      "Training cost in epoch 20 is 1.55822 and accuracy is 75.28%\n",
      "Validation set accuracy is 70.25%\n",
      "Training cost in epoch 40 is 1.25945 and accuracy is 83.42%\n",
      "Validation set accuracy is 77.91%\n",
      "Training cost in epoch 60 is 1.05530 and accuracy is 86.62%\n",
      "Validation set accuracy is 81.30%\n",
      "Final test cost is 1.05530\n",
      "Accuracy on training data is 86.62%, and accuracy on validation data is 81.30%\n"
     ]
    },
    {
     "name": "stderr",
     "output_type": "stream",
     "text": [
      "/Users/lauragraesser/anaconda3/anaconda/lib/python3.5/site-packages/ipykernel/__main__.py:164: RuntimeWarning: overflow encountered in exp\n"
     ]
    }
   ],
   "source": [
    "net2 = NeuralNet((784,100,10), LogLikelihoodCost, SigmoidActivation, SoftmaxActivation)\n",
    "net2.initialize_variables()\n",
    "learning_rate = 1\n",
    "epochs = 61\n",
    "reporting_rate = 20\n",
    "lmda = 0\n",
    "batch_size = 200\n",
    "training_cost, valid_cost = net2.SGD(short_train_x, short_train_y, test_x, test_y, learning_rate, \\\n",
    "        epochs, reporting_rate, lmda, batch_size, verbose=False)\n",
    "\n",
    "net2 = NeuralNet((784,100,10), LogLikelihoodCost, SigmoidActivation, SoftmaxActivation)\n",
    "net2.initialize_variables()\n",
    "learning_rate = 0.1\n",
    "epochs = 61\n",
    "reporting_rate = 20\n",
    "lmda = 0\n",
    "batch_size = 200\n",
    "training_cost, valid_cost = net2.SGD(short_train_x, short_train_y, test_x, test_y, learning_rate, \\\n",
    "        epochs, reporting_rate, lmda, batch_size, verbose=False)\n",
    "\n",
    "net2 = NeuralNet((784,100,10), LogLikelihoodCost, SigmoidActivation, SoftmaxActivation)\n",
    "net2.initialize_variables()\n",
    "learning_rate = 0.01\n",
    "epochs = 61\n",
    "reporting_rate = 20\n",
    "lmda = 0\n",
    "batch_size = 200\n",
    "training_cost, valid_cost = net2.SGD(short_train_x, short_train_y, test_x, test_y, learning_rate, \\\n",
    "        epochs, reporting_rate, lmda, batch_size, verbose=False)\n",
    "\n",
    "net2 = NeuralNet((784,100,10), LogLikelihoodCost, SigmoidActivation, SoftmaxActivation)\n",
    "net2.initialize_variables()\n",
    "learning_rate = 0.001\n",
    "epochs = 61\n",
    "reporting_rate = 20\n",
    "lmda = 0\n",
    "batch_size = 200\n",
    "training_cost, valid_cost = net2.SGD(short_train_x, short_train_y, test_x, test_y, learning_rate, \\\n",
    "        epochs, reporting_rate, lmda, batch_size, verbose=False)"
   ]
  },
  {
   "cell_type": "markdown",
   "metadata": {},
   "source": [
    "## Testing Sigmoid with Quadratic Cost, Sigmoid output layer, smaller batch sizes, learning rate shrunk with batch size"
   ]
  },
  {
   "cell_type": "code",
   "execution_count": 4,
   "metadata": {
    "collapsed": false
   },
   "outputs": [
    {
     "name": "stdout",
     "output_type": "stream",
     "text": [
      "Training cost at start of training is 0.98258 and accuracy is 11.18%\n",
      "Validation set accuracy is 11.48%\n",
      "Training cost in epoch 0 is 0.38898 and accuracy is 54.90%\n",
      "Validation set accuracy is 53.72%\n",
      "Training cost in epoch 20 is 0.08656 and accuracy is 94.24%\n",
      "Validation set accuracy is 89.56%\n",
      "Training cost in epoch 40 is 0.05127 and accuracy is 96.40%\n",
      "Validation set accuracy is 90.55%\n",
      "Training cost in epoch 60 is 0.03650 and accuracy is 97.36%\n",
      "Validation set accuracy is 90.55%\n",
      "Final test cost is 0.03650\n",
      "Accuracy on training data is 97.36%, and accuracy on validation data is 90.55%\n",
      "Training cost at start of training is 0.98258 and accuracy is 11.18%\n",
      "Validation set accuracy is 11.48%\n",
      "Training cost in epoch 0 is 0.38393 and accuracy is 57.78%\n",
      "Validation set accuracy is 55.55%\n",
      "Training cost in epoch 20 is 0.07909 and accuracy is 94.58%\n",
      "Validation set accuracy is 89.95%\n",
      "Training cost in epoch 40 is 0.04563 and accuracy is 96.74%\n",
      "Validation set accuracy is 90.76%\n",
      "Training cost in epoch 60 is 0.03264 and accuracy is 97.52%\n",
      "Validation set accuracy is 90.92%\n",
      "Final test cost is 0.03264\n",
      "Accuracy on training data is 97.52%, and accuracy on validation data is 90.92%\n",
      "Training cost at start of training is 0.98258 and accuracy is 11.18%\n",
      "Validation set accuracy is 11.48%\n",
      "Training cost in epoch 0 is 0.39797 and accuracy is 53.70%\n",
      "Validation set accuracy is 53.02%\n",
      "Training cost in epoch 20 is 0.09690 and accuracy is 94.26%\n",
      "Validation set accuracy is 89.19%\n",
      "Training cost in epoch 40 is 0.05692 and accuracy is 96.10%\n",
      "Validation set accuracy is 90.20%\n",
      "Training cost in epoch 60 is 0.04253 and accuracy is 96.80%\n",
      "Validation set accuracy is 90.35%\n",
      "Final test cost is 0.04253\n",
      "Accuracy on training data is 96.80%, and accuracy on validation data is 90.35%\n"
     ]
    }
   ],
   "source": [
    "net2 = NeuralNet((784,100,10), QuadraticCost, SigmoidActivation, SigmoidActivation)\n",
    "net2.initialize_variables()\n",
    "learning_rate = 0.05\n",
    "epochs = 61\n",
    "reporting_rate = 20\n",
    "lmda = 0\n",
    "batch_size = 100\n",
    "training_cost, valid_cost = net2.SGD(short_train_x, short_train_y, test_x, test_y, learning_rate, \\\n",
    "        epochs, reporting_rate, lmda, batch_size, verbose=False)\n",
    "\n",
    "net2 = NeuralNet((784,100,10), QuadraticCost, SigmoidActivation, SigmoidActivation)\n",
    "net2.initialize_variables()\n",
    "learning_rate = 0.03\n",
    "epochs = 61\n",
    "reporting_rate = 20\n",
    "lmda = 0\n",
    "batch_size = 50\n",
    "training_cost, valid_cost = net2.SGD(short_train_x, short_train_y, test_x, test_y, learning_rate, \\\n",
    "        epochs, reporting_rate, lmda, batch_size, verbose=False)\n",
    "\n",
    "net2 = NeuralNet((784,100,10), QuadraticCost, SigmoidActivation, SigmoidActivation)\n",
    "net2.initialize_variables()\n",
    "learning_rate = 0.01\n",
    "epochs = 61\n",
    "reporting_rate = 20\n",
    "lmda = 0\n",
    "batch_size = 25\n",
    "training_cost, valid_cost = net2.SGD(short_train_x, short_train_y, test_x, test_y, learning_rate, \\\n",
    "        epochs, reporting_rate, lmda, batch_size, verbose=False)"
   ]
  }
 ],
 "metadata": {
  "kernelspec": {
   "display_name": "Python 3",
   "language": "python",
   "name": "python3"
  },
  "language_info": {
   "codemirror_mode": {
    "name": "ipython",
    "version": 3
   },
   "file_extension": ".py",
   "mimetype": "text/x-python",
   "name": "python",
   "nbconvert_exporter": "python",
   "pygments_lexer": "ipython3",
   "version": "3.5.1"
  }
 },
 "nbformat": 4,
 "nbformat_minor": 0
}
