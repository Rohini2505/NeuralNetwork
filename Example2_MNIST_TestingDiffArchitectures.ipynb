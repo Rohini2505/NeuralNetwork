{
 "cells": [
  {
   "cell_type": "markdown",
   "metadata": {},
   "source": [
    "## Testing performance of different neural network architectures on a subset of the MNIST data\n",
    "- Performance of neural networks with 4 and 5 layers compared with baseline architecture of 3 layers with 100 nodes in the hidden layers\n",
    "    - Networks with up to 40 fewer and 60 more nodes in total vs. baseline tested\n",
    "- Same cost function, activation functions, batch size, learning rate and number of epochs used so as to isolate performance difference from architecture only\n",
    "- Overall small difference in performance across all the networks: total variation in test set accuracy of 1%\n",
    "- Four layer neural network with 20 fewer nodes than baseline network marginally exceeds baseline performance. This is consistent with deep learning theory that demonstrates that it is possible to approximate the same function using fewer nodes and a deeper network\n",
    "- The best performance was from the 5 layer network with 60 more nodes vs. the baseline with a test set accuracy of 91.28%\n",
    "- Given that all of these networks achieve almost 100% accuracy on the training data, I suspect that the major performace limitation, particularly for the deeper networks, is the size of the training data."
   ]
  },
  {
   "cell_type": "code",
   "execution_count": 3,
   "metadata": {
    "collapsed": true
   },
   "outputs": [],
   "source": [
    "import pickle\n",
    "import NeuralNetwork as nn\n",
    "\n",
    "train_x = pickle.load(open(\"MNIST_train_x.pkl\", 'rb'))\n",
    "train_y = pickle.load(open(\"MNIST_train_y.pkl\", 'rb'))\n",
    "test_x = pickle.load(open(\"MNIST_test_x.pkl\", 'rb'))\n",
    "test_y = pickle.load(open(\"MNIST_test_y.pkl\", 'rb'))\n",
    "short_train_x = train_x[0:5000,:]\n",
    "short_train_y = train_y[0:5000,:]"
   ]
  },
  {
   "cell_type": "markdown",
   "metadata": {},
   "source": [
    "## Baseline architecture"
   ]
  },
  {
   "cell_type": "code",
   "execution_count": 7,
   "metadata": {
    "collapsed": false
   },
   "outputs": [
    {
     "name": "stdout",
     "output_type": "stream",
     "text": [
      "Training cost at start of training is 6.34394 and accuracy is 6.34%\n",
      "Validation set accuracy is 6.35%\n",
      "Training cost in epoch 0 is 0.81058 and accuracy is 80.08%\n",
      "Validation set accuracy is 73.58%\n",
      "Training cost in epoch 20 is 0.04616 and accuracy is 99.06%\n",
      "Validation set accuracy is 89.13%\n",
      "Training cost in epoch 40 is 0.02886 and accuracy is 99.60%\n",
      "Validation set accuracy is 90.24%\n",
      "Training cost in epoch 60 is 0.02491 and accuracy is 99.50%\n",
      "Validation set accuracy is 90.54%\n",
      "Training cost in epoch 80 is 0.03295 and accuracy is 99.22%\n",
      "Validation set accuracy is 90.81%\n",
      "Training cost in epoch 100 is 0.07050 and accuracy is 98.52%\n",
      "Validation set accuracy is 90.71%\n",
      "Final test cost is 0.07050\n",
      "Accuracy on training data is 98.52%, and accuracy on validation data is 90.71%\n"
     ]
    }
   ],
   "source": [
    "net2 = nn.NeuralNet((784,100,10), nn.LogLikelihoodCost, nn.ReluActivation, nn.SoftmaxActivation)\n",
    "net2.initialize_variables()\n",
    "learning_rate = 0.001\n",
    "epochs = 101\n",
    "reporting_rate = 20\n",
    "lmda = 0\n",
    "batch_size = 200\n",
    "training_cost, valid_cost = net2.SGD(short_train_x, short_train_y, test_x, test_y, learning_rate, \\\n",
    "        epochs, reporting_rate, lmda, batch_size, verbose=False)"
   ]
  },
  {
   "cell_type": "markdown",
   "metadata": {},
   "source": [
    "## Four layer NN, 20 fewer nodes in total vs. baseline"
   ]
  },
  {
   "cell_type": "code",
   "execution_count": 8,
   "metadata": {
    "collapsed": false
   },
   "outputs": [
    {
     "name": "stdout",
     "output_type": "stream",
     "text": [
      "Training cost at start of training is 5.91058 and accuracy is 4.86%\n",
      "Validation set accuracy is 5.02%\n",
      "Training cost in epoch 0 is 1.33018 and accuracy is 57.86%\n",
      "Validation set accuracy is 55.34%\n",
      "Training cost in epoch 20 is 0.18223 and accuracy is 95.40%\n",
      "Validation set accuracy is 88.06%\n",
      "Training cost in epoch 40 is 0.08946 and accuracy is 98.18%\n",
      "Validation set accuracy is 89.71%\n",
      "Training cost in epoch 60 is 0.05450 and accuracy is 99.12%\n",
      "Validation set accuracy is 90.28%\n",
      "Training cost in epoch 80 is 0.03758 and accuracy is 99.56%\n",
      "Validation set accuracy is 90.85%\n",
      "Training cost in epoch 100 is 0.03137 and accuracy is 99.46%\n",
      "Validation set accuracy is 90.85%\n",
      "Final test cost is 0.03137\n",
      "Accuracy on training data is 99.46%, and accuracy on validation data is 90.85%\n",
      "\n",
      "Training cost at start of training is 5.91211 and accuracy is 4.86%\n",
      "Validation set accuracy is 5.02%\n",
      "Training cost in epoch 0 is 1.32631 and accuracy is 57.74%\n",
      "Validation set accuracy is 55.25%\n",
      "Training cost in epoch 20 is 0.18495 and accuracy is 95.44%\n",
      "Validation set accuracy is 88.11%\n",
      "Training cost in epoch 40 is 0.09219 and accuracy is 98.12%\n",
      "Validation set accuracy is 89.85%\n",
      "Training cost in epoch 60 is 0.05664 and accuracy is 99.08%\n",
      "Validation set accuracy is 90.24%\n",
      "Training cost in epoch 80 is 0.03945 and accuracy is 99.52%\n",
      "Validation set accuracy is 90.62%\n",
      "Training cost in epoch 100 is 0.03297 and accuracy is 99.50%\n",
      "Validation set accuracy is 90.93%\n",
      "Final test cost is 0.03297\n",
      "Accuracy on training data is 99.50%, and accuracy on validation data is 90.93%\n"
     ]
    }
   ],
   "source": [
    "net2 = nn.NeuralNet((784,50,30,10), nn.LogLikelihoodCost, nn.ReluActivation, nn.SoftmaxActivation)\n",
    "net2.initialize_variables()\n",
    "learning_rate = 0.001\n",
    "epochs = 101\n",
    "reporting_rate = 20\n",
    "lmda = 0\n",
    "batch_size = 200\n",
    "training_cost, valid_cost = net2.SGD(short_train_x, short_train_y, test_x, test_y, learning_rate, \\\n",
    "        epochs, reporting_rate, lmda, batch_size, verbose=False)\n",
    "print()\n",
    "\n",
    "net2 = nn.NeuralNet((784,50,30,10), nn.LogLikelihoodCost, nn.ReluActivation, nn.SoftmaxActivation)\n",
    "net2.initialize_variables()\n",
    "learning_rate = 0.001\n",
    "epochs = 101\n",
    "reporting_rate = 20\n",
    "lmda = 0.5\n",
    "batch_size = 200\n",
    "training_cost, valid_cost = net2.SGD(short_train_x, short_train_y, test_x, test_y, learning_rate, \\\n",
    "        epochs, reporting_rate, lmda, batch_size, verbose=False)"
   ]
  },
  {
   "cell_type": "markdown",
   "metadata": {},
   "source": [
    "## Four layer NN, same number of nodes in total vs. baseline"
   ]
  },
  {
   "cell_type": "code",
   "execution_count": 11,
   "metadata": {
    "collapsed": false
   },
   "outputs": [
    {
     "name": "stdout",
     "output_type": "stream",
     "text": [
      "Training cost at start of training is 5.58528 and accuracy is 8.10%\n",
      "Validation set accuracy is 8.31%\n",
      "Training cost in epoch 0 is 1.21272 and accuracy is 62.94%\n",
      "Validation set accuracy is 60.94%\n",
      "Training cost in epoch 20 is 0.16081 and accuracy is 95.36%\n",
      "Validation set accuracy is 87.65%\n",
      "Training cost in epoch 40 is 0.08169 and accuracy is 98.40%\n",
      "Validation set accuracy is 89.12%\n",
      "Training cost in epoch 60 is 0.04913 and accuracy is 99.28%\n",
      "Validation set accuracy is 89.97%\n",
      "Training cost in epoch 80 is 0.03384 and accuracy is 99.56%\n",
      "Validation set accuracy is 90.27%\n",
      "Training cost in epoch 100 is 0.02792 and accuracy is 99.64%\n",
      "Validation set accuracy is 90.39%\n",
      "Final test cost is 0.02792\n",
      "Accuracy on training data is 99.64%, and accuracy on validation data is 90.39%\n",
      "\n",
      "Training cost at start of training is 5.58713 and accuracy is 8.10%\n",
      "Validation set accuracy is 8.31%\n",
      "Training cost in epoch 0 is 1.21447 and accuracy is 62.96%\n",
      "Validation set accuracy is 60.95%\n",
      "Training cost in epoch 20 is 0.16228 and accuracy is 95.58%\n",
      "Validation set accuracy is 87.57%\n",
      "Training cost in epoch 40 is 0.08367 and accuracy is 98.34%\n",
      "Validation set accuracy is 89.27%\n",
      "Training cost in epoch 60 is 0.05136 and accuracy is 99.26%\n",
      "Validation set accuracy is 90.00%\n",
      "Training cost in epoch 80 is 0.03627 and accuracy is 99.58%\n",
      "Validation set accuracy is 90.22%\n",
      "Training cost in epoch 100 is 0.03074 and accuracy is 99.64%\n",
      "Validation set accuracy is 90.40%\n",
      "Final test cost is 0.03074\n",
      "Accuracy on training data is 99.64%, and accuracy on validation data is 90.40%\n"
     ]
    }
   ],
   "source": [
    "net2 = nn.NeuralNet((784,50,50,10), nn.LogLikelihoodCost, nn.ReluActivation, nn.SoftmaxActivation)\n",
    "net2.initialize_variables()\n",
    "learning_rate = 0.001\n",
    "epochs = 101\n",
    "reporting_rate = 20\n",
    "lmda = 0\n",
    "batch_size = 200\n",
    "training_cost, valid_cost = net2.SGD(short_train_x, short_train_y, test_x, test_y, learning_rate, \\\n",
    "        epochs, reporting_rate, lmda, batch_size, verbose=False)\n",
    "print()\n",
    "\n",
    "net2 = nn.NeuralNet((784,50,50,10), nn.LogLikelihoodCost, nn.ReluActivation, nn.SoftmaxActivation)\n",
    "net2.initialize_variables()\n",
    "learning_rate = 0.001\n",
    "epochs = 101\n",
    "reporting_rate = 20\n",
    "lmda = 0.5\n",
    "batch_size = 200\n",
    "training_cost, valid_cost = net2.SGD(short_train_x, short_train_y, test_x, test_y, learning_rate, \\\n",
    "        epochs, reporting_rate, lmda, batch_size, verbose=False)"
   ]
  },
  {
   "cell_type": "markdown",
   "metadata": {},
   "source": [
    "## Four layer NN, 20 more nodes in total vs. baseline\n",
    "- Stronger regularization in second network vs. previous examples"
   ]
  },
  {
   "cell_type": "code",
   "execution_count": 12,
   "metadata": {
    "collapsed": false
   },
   "outputs": [
    {
     "name": "stdout",
     "output_type": "stream",
     "text": [
      "Training cost at start of training is 5.93800 and accuracy is 7.04%\n",
      "Validation set accuracy is 6.73%\n",
      "Training cost in epoch 0 is 1.08983 and accuracy is 67.38%\n",
      "Validation set accuracy is 63.71%\n",
      "Training cost in epoch 20 is 0.14166 and accuracy is 96.76%\n",
      "Validation set accuracy is 88.11%\n",
      "Training cost in epoch 40 is 0.06800 and accuracy is 98.66%\n",
      "Validation set accuracy is 89.61%\n",
      "Training cost in epoch 60 is 0.03958 and accuracy is 99.46%\n",
      "Validation set accuracy is 90.17%\n",
      "Training cost in epoch 80 is 0.02817 and accuracy is 99.70%\n",
      "Validation set accuracy is 90.46%\n",
      "Training cost in epoch 100 is 0.02558 and accuracy is 99.62%\n",
      "Validation set accuracy is 90.53%\n",
      "Final test cost is 0.02558\n",
      "Accuracy on training data is 99.62%, and accuracy on validation data is 90.53%\n",
      "\n",
      "Training cost at start of training is 5.94238 and accuracy is 7.04%\n",
      "Validation set accuracy is 6.73%\n",
      "Training cost in epoch 0 is 1.09412 and accuracy is 67.38%\n",
      "Validation set accuracy is 63.71%\n",
      "Training cost in epoch 20 is 0.14594 and accuracy is 96.74%\n",
      "Validation set accuracy is 88.15%\n",
      "Training cost in epoch 40 is 0.07249 and accuracy is 98.72%\n",
      "Validation set accuracy is 89.63%\n",
      "Training cost in epoch 60 is 0.04389 and accuracy is 99.44%\n",
      "Validation set accuracy is 90.28%\n",
      "Training cost in epoch 80 is 0.03280 and accuracy is 99.66%\n",
      "Validation set accuracy is 90.43%\n",
      "Training cost in epoch 100 is 0.03021 and accuracy is 99.60%\n",
      "Validation set accuracy is 90.53%\n",
      "Final test cost is 0.03021\n",
      "Accuracy on training data is 99.60%, and accuracy on validation data is 90.53%\n"
     ]
    }
   ],
   "source": [
    "net2 = nn.NeuralNet((784,70,50,10), nn.LogLikelihoodCost, nn.ReluActivation, nn.SoftmaxActivation)\n",
    "net2.initialize_variables()\n",
    "learning_rate = 0.001\n",
    "epochs = 101\n",
    "reporting_rate = 20\n",
    "lmda = 0\n",
    "batch_size = 200\n",
    "training_cost, valid_cost = net2.SGD(short_train_x, short_train_y, test_x, test_y, learning_rate, \\\n",
    "        epochs, reporting_rate, lmda, batch_size, verbose=False)\n",
    "print()\n",
    "\n",
    "net2 = nn.NeuralNet((784,70,50,10), nn.LogLikelihoodCost, nn.ReluActivation, nn.SoftmaxActivation)\n",
    "net2.initialize_variables()\n",
    "learning_rate = 0.001\n",
    "epochs = 101\n",
    "reporting_rate = 20\n",
    "lmda = 1\n",
    "batch_size = 200\n",
    "training_cost, valid_cost = net2.SGD(short_train_x, short_train_y, test_x, test_y, learning_rate, \\\n",
    "        epochs, reporting_rate, lmda, batch_size, verbose=False)"
   ]
  },
  {
   "cell_type": "markdown",
   "metadata": {},
   "source": [
    "## Four layer NN, 60 more nodes in total vs. baseline"
   ]
  },
  {
   "cell_type": "code",
   "execution_count": 14,
   "metadata": {
    "collapsed": false
   },
   "outputs": [
    {
     "name": "stdout",
     "output_type": "stream",
     "text": [
      "Training cost at start of training is 5.76316 and accuracy is 12.58%\n",
      "Validation set accuracy is 12.62%\n",
      "Training cost in epoch 0 is 1.10048 and accuracy is 67.06%\n",
      "Validation set accuracy is 63.72%\n",
      "Training cost in epoch 20 is 0.13339 and accuracy is 96.88%\n",
      "Validation set accuracy is 88.77%\n",
      "Training cost in epoch 40 is 0.06051 and accuracy is 98.94%\n",
      "Validation set accuracy is 90.09%\n",
      "Training cost in epoch 60 is 0.03777 and accuracy is 99.54%\n",
      "Validation set accuracy is 90.53%\n",
      "Training cost in epoch 80 is 0.02902 and accuracy is 99.70%\n",
      "Validation set accuracy is 90.92%\n",
      "Training cost in epoch 100 is 0.02658 and accuracy is 99.70%\n",
      "Validation set accuracy is 91.07%\n",
      "Final test cost is 0.02658\n",
      "Accuracy on training data is 99.70%, and accuracy on validation data is 91.07%\n",
      "\n",
      "Training cost at start of training is 5.76891 and accuracy is 12.58%\n",
      "Validation set accuracy is 12.62%\n",
      "Training cost in epoch 0 is 1.10612 and accuracy is 67.06%\n",
      "Validation set accuracy is 63.73%\n",
      "Training cost in epoch 20 is 0.13928 and accuracy is 96.80%\n",
      "Validation set accuracy is 88.75%\n",
      "Training cost in epoch 40 is 0.06658 and accuracy is 98.90%\n",
      "Validation set accuracy is 90.15%\n",
      "Training cost in epoch 60 is 0.04409 and accuracy is 99.48%\n",
      "Validation set accuracy is 90.67%\n",
      "Training cost in epoch 80 is 0.03497 and accuracy is 99.70%\n",
      "Validation set accuracy is 91.02%\n",
      "Training cost in epoch 100 is 0.03272 and accuracy is 99.72%\n",
      "Validation set accuracy is 91.17%\n",
      "Final test cost is 0.03272\n",
      "Accuracy on training data is 99.72%, and accuracy on validation data is 91.17%\n"
     ]
    }
   ],
   "source": [
    "net2 = nn.NeuralNet((784,100,60,10), nn.LogLikelihoodCost, nn.ReluActivation, nn.SoftmaxActivation)\n",
    "net2.initialize_variables()\n",
    "learning_rate = 0.001\n",
    "epochs = 101\n",
    "reporting_rate = 20\n",
    "lmda = 0\n",
    "batch_size = 200\n",
    "training_cost, valid_cost = net2.SGD(short_train_x, short_train_y, test_x, test_y, learning_rate, \\\n",
    "        epochs, reporting_rate, lmda, batch_size, verbose=False)\n",
    "print()\n",
    "\n",
    "net2 = nn.NeuralNet((784,100,60,10), nn.LogLikelihoodCost, nn.ReluActivation, nn.SoftmaxActivation)\n",
    "net2.initialize_variables()\n",
    "learning_rate = 0.001\n",
    "epochs = 101\n",
    "reporting_rate = 20\n",
    "lmda = 1\n",
    "batch_size = 200\n",
    "training_cost, valid_cost = net2.SGD(short_train_x, short_train_y, test_x, test_y, learning_rate, \\\n",
    "        epochs, reporting_rate, lmda, batch_size, verbose=False)"
   ]
  },
  {
   "cell_type": "markdown",
   "metadata": {},
   "source": [
    "## Five layer NN, 40 fewer nodes in total vs. baseline"
   ]
  },
  {
   "cell_type": "code",
   "execution_count": 10,
   "metadata": {
    "collapsed": false
   },
   "outputs": [
    {
     "name": "stdout",
     "output_type": "stream",
     "text": [
      "Training cost at start of training is 3.69478 and accuracy is 8.20%\n",
      "Validation set accuracy is 7.80%\n",
      "Training cost in epoch 0 is 2.10907 and accuracy is 26.06%\n",
      "Validation set accuracy is 25.63%\n",
      "Training cost in epoch 20 is 0.46234 and accuracy is 86.66%\n",
      "Validation set accuracy is 80.88%\n",
      "Training cost in epoch 40 is 0.29332 and accuracy is 91.54%\n",
      "Validation set accuracy is 85.37%\n",
      "Training cost in epoch 60 is 0.21076 and accuracy is 94.12%\n",
      "Validation set accuracy is 87.26%\n",
      "Training cost in epoch 80 is 0.15561 and accuracy is 95.90%\n",
      "Validation set accuracy is 88.30%\n",
      "Training cost in epoch 100 is 0.11896 and accuracy is 96.94%\n",
      "Validation set accuracy is 88.61%\n",
      "Final test cost is 0.11896\n",
      "Accuracy on training data is 96.94%, and accuracy on validation data is 88.61%\n",
      "\n",
      "Training cost at start of training is 3.69598 and accuracy is 8.20%\n",
      "Validation set accuracy is 7.80%\n",
      "Training cost in epoch 0 is 2.11025 and accuracy is 26.06%\n",
      "Validation set accuracy is 25.62%\n",
      "Training cost in epoch 20 is 0.46370 and accuracy is 86.70%\n",
      "Validation set accuracy is 80.92%\n",
      "Training cost in epoch 40 is 0.29399 and accuracy is 91.52%\n",
      "Validation set accuracy is 85.50%\n",
      "Training cost in epoch 60 is 0.21190 and accuracy is 94.18%\n",
      "Validation set accuracy is 87.37%\n",
      "Training cost in epoch 80 is 0.15677 and accuracy is 95.84%\n",
      "Validation set accuracy is 88.20%\n",
      "Training cost in epoch 100 is 0.12049 and accuracy is 96.90%\n",
      "Validation set accuracy is 88.50%\n",
      "Final test cost is 0.12049\n",
      "Accuracy on training data is 96.90%, and accuracy on validation data is 88.50%\n"
     ]
    }
   ],
   "source": [
    "net2 = nn.NeuralNet((784,20,20,20,10), nn.LogLikelihoodCost, nn.ReluActivation, nn.SoftmaxActivation)\n",
    "net2.initialize_variables()\n",
    "learning_rate = 0.001\n",
    "epochs = 101\n",
    "reporting_rate = 20\n",
    "lmda = 0\n",
    "batch_size = 200\n",
    "training_cost, valid_cost = net2.SGD(short_train_x, short_train_y, test_x, test_y, learning_rate, \\\n",
    "        epochs, reporting_rate, lmda, batch_size, verbose=False)\n",
    "print()\n",
    "\n",
    "net2 = nn.NeuralNet((784,20,20,20,10), nn.LogLikelihoodCost, nn.ReluActivation, nn.SoftmaxActivation)\n",
    "net2.initialize_variables()\n",
    "learning_rate = 0.001\n",
    "epochs = 101\n",
    "reporting_rate = 20\n",
    "lmda = 0.5\n",
    "batch_size = 200\n",
    "training_cost, valid_cost = net2.SGD(short_train_x, short_train_y, test_x, test_y, learning_rate, \\\n",
    "        epochs, reporting_rate, lmda, batch_size, verbose=False)"
   ]
  },
  {
   "cell_type": "markdown",
   "metadata": {},
   "source": [
    "## Five layer NN, 20 fewer nodes in total vs. baseline"
   ]
  },
  {
   "cell_type": "code",
   "execution_count": 9,
   "metadata": {
    "collapsed": false
   },
   "outputs": [
    {
     "name": "stdout",
     "output_type": "stream",
     "text": [
      "Training cost at start of training is 5.25077 and accuracy is 11.58%\n",
      "Validation set accuracy is 11.80%\n",
      "Training cost in epoch 0 is 2.00912 and accuracy is 26.32%\n",
      "Validation set accuracy is 25.13%\n",
      "Training cost in epoch 20 is 0.33044 and accuracy is 90.60%\n",
      "Validation set accuracy is 86.36%\n",
      "Training cost in epoch 40 is 0.21453 and accuracy is 94.20%\n",
      "Validation set accuracy is 88.67%\n",
      "Training cost in epoch 60 is 0.16986 and accuracy is 95.56%\n",
      "Validation set accuracy is 89.44%\n",
      "Training cost in epoch 80 is 0.12423 and accuracy is 97.02%\n",
      "Validation set accuracy is 90.17%\n",
      "Training cost in epoch 100 is 0.09941 and accuracy is 97.90%\n",
      "Validation set accuracy is 90.17%\n",
      "Final test cost is 0.09941\n",
      "Accuracy on training data is 97.90%, and accuracy on validation data is 90.17%\n",
      "\n",
      "Training cost at start of training is 5.25227 and accuracy is 11.58%\n",
      "Validation set accuracy is 11.80%\n",
      "Training cost in epoch 0 is 2.01061 and accuracy is 26.10%\n",
      "Validation set accuracy is 25.15%\n",
      "Training cost in epoch 20 is 0.33296 and accuracy is 90.72%\n",
      "Validation set accuracy is 86.38%\n",
      "Training cost in epoch 40 is 0.21761 and accuracy is 94.28%\n",
      "Validation set accuracy is 88.79%\n",
      "Training cost in epoch 60 is 0.17131 and accuracy is 95.64%\n",
      "Validation set accuracy is 89.54%\n",
      "Training cost in epoch 80 is 0.12721 and accuracy is 97.02%\n",
      "Validation set accuracy is 90.07%\n",
      "Training cost in epoch 100 is 0.10112 and accuracy is 97.74%\n",
      "Validation set accuracy is 89.96%\n",
      "Final test cost is 0.10112\n",
      "Accuracy on training data is 97.74%, and accuracy on validation data is 89.96%\n"
     ]
    }
   ],
   "source": [
    "net2 = nn.NeuralNet((784,30,30,20,10), nn.LogLikelihoodCost, nn.ReluActivation, nn.SoftmaxActivation)\n",
    "net2.initialize_variables()\n",
    "learning_rate = 0.001\n",
    "epochs = 101\n",
    "reporting_rate = 20\n",
    "lmda = 0\n",
    "batch_size = 200\n",
    "training_cost, valid_cost = net2.SGD(short_train_x, short_train_y, test_x, test_y, learning_rate, \\\n",
    "        epochs, reporting_rate, lmda, batch_size, verbose=False)\n",
    "print()\n",
    "\n",
    "net2 = nn.NeuralNet((784,30,30,20,10), nn.LogLikelihoodCost, nn.ReluActivation, nn.SoftmaxActivation)\n",
    "net2.initialize_variables()\n",
    "learning_rate = 0.001\n",
    "epochs = 101\n",
    "reporting_rate = 20\n",
    "lmda = 0.5\n",
    "batch_size = 200\n",
    "training_cost, valid_cost = net2.SGD(short_train_x, short_train_y, test_x, test_y, learning_rate, \\\n",
    "        epochs, reporting_rate, lmda, batch_size, verbose=False)"
   ]
  },
  {
   "cell_type": "markdown",
   "metadata": {},
   "source": [
    "## Five layer NN, same number of nodes in total vs. baseline"
   ]
  },
  {
   "cell_type": "code",
   "execution_count": 13,
   "metadata": {
    "collapsed": false
   },
   "outputs": [
    {
     "name": "stdout",
     "output_type": "stream",
     "text": [
      "Training cost at start of training is 4.26086 and accuracy is 10.88%\n",
      "Validation set accuracy is 10.55%\n",
      "Training cost in epoch 0 is 1.69498 and accuracy is 38.50%\n",
      "Validation set accuracy is 38.36%\n",
      "Training cost in epoch 20 is 0.29339 and accuracy is 91.98%\n",
      "Validation set accuracy is 87.37%\n",
      "Training cost in epoch 40 is 0.18004 and accuracy is 95.30%\n",
      "Validation set accuracy is 89.43%\n",
      "Training cost in epoch 60 is 0.12527 and accuracy is 96.92%\n",
      "Validation set accuracy is 90.21%\n",
      "Training cost in epoch 80 is 0.08859 and accuracy is 98.14%\n",
      "Validation set accuracy is 90.59%\n",
      "Training cost in epoch 100 is 0.06676 and accuracy is 98.68%\n",
      "Validation set accuracy is 90.66%\n",
      "Final test cost is 0.06676\n",
      "Accuracy on training data is 98.68%, and accuracy on validation data is 90.66%\n",
      "\n",
      "Training cost at start of training is 4.26271 and accuracy is 10.88%\n",
      "Validation set accuracy is 10.55%\n",
      "Training cost in epoch 0 is 1.69766 and accuracy is 38.56%\n",
      "Validation set accuracy is 38.29%\n",
      "Training cost in epoch 20 is 0.29539 and accuracy is 91.96%\n",
      "Validation set accuracy is 87.37%\n",
      "Training cost in epoch 40 is 0.18388 and accuracy is 95.08%\n",
      "Validation set accuracy is 89.53%\n",
      "Training cost in epoch 60 is 0.13009 and accuracy is 96.80%\n",
      "Validation set accuracy is 90.22%\n",
      "Training cost in epoch 80 is 0.09309 and accuracy is 98.10%\n",
      "Validation set accuracy is 90.45%\n",
      "Training cost in epoch 100 is 0.06893 and accuracy is 98.62%\n",
      "Validation set accuracy is 90.54%\n",
      "Final test cost is 0.06893\n",
      "Accuracy on training data is 98.62%, and accuracy on validation data is 90.54%\n"
     ]
    }
   ],
   "source": [
    "net2 = nn.NeuralNet((784,40,40,20,10), nn.LogLikelihoodCost, nn.ReluActivation, nn.SoftmaxActivation)\n",
    "net2.initialize_variables()\n",
    "learning_rate = 0.001\n",
    "epochs = 101\n",
    "reporting_rate = 20\n",
    "lmda = 0\n",
    "batch_size = 200\n",
    "training_cost, valid_cost = net2.SGD(short_train_x, short_train_y, test_x, test_y, learning_rate, \\\n",
    "        epochs, reporting_rate, lmda, batch_size, verbose=False)\n",
    "print()\n",
    "\n",
    "net2 = nn.NeuralNet((784,40,40,20,10), nn.LogLikelihoodCost, nn.ReluActivation, nn.SoftmaxActivation)\n",
    "net2.initialize_variables()\n",
    "learning_rate = 0.001\n",
    "epochs = 101\n",
    "reporting_rate = 20\n",
    "lmda = 0.5\n",
    "batch_size = 200\n",
    "training_cost, valid_cost = net2.SGD(short_train_x, short_train_y, test_x, test_y, learning_rate, \\\n",
    "        epochs, reporting_rate, lmda, batch_size, verbose=False)"
   ]
  },
  {
   "cell_type": "markdown",
   "metadata": {},
   "source": [
    "## Five layer NN, 60 more of nodes in total vs. baseline"
   ]
  },
  {
   "cell_type": "code",
   "execution_count": 15,
   "metadata": {
    "collapsed": false
   },
   "outputs": [
    {
     "name": "stdout",
     "output_type": "stream",
     "text": [
      "Training cost at start of training is 4.10863 and accuracy is 10.76%\n",
      "Validation set accuracy is 10.60%\n",
      "Training cost in epoch 0 is 1.32558 and accuracy is 56.30%\n",
      "Validation set accuracy is 54.58%\n",
      "Training cost in epoch 20 is 0.21097 and accuracy is 94.06%\n",
      "Validation set accuracy is 88.73%\n",
      "Training cost in epoch 40 is 0.11778 and accuracy is 97.40%\n",
      "Validation set accuracy is 90.31%\n",
      "Training cost in epoch 60 is 0.07460 and accuracy is 98.76%\n",
      "Validation set accuracy is 90.93%\n",
      "Training cost in epoch 80 is 0.05126 and accuracy is 99.20%\n",
      "Validation set accuracy is 91.20%\n",
      "Training cost in epoch 100 is 0.03816 and accuracy is 99.60%\n",
      "Validation set accuracy is 91.28%\n",
      "Final test cost is 0.03816\n",
      "Accuracy on training data is 99.60%, and accuracy on validation data is 91.28%\n",
      "\n",
      "Training cost at start of training is 4.11183 and accuracy is 10.76%\n",
      "Validation set accuracy is 10.60%\n",
      "Training cost in epoch 0 is 1.32879 and accuracy is 56.32%\n",
      "Validation set accuracy is 54.60%\n",
      "Training cost in epoch 20 is 0.21473 and accuracy is 94.08%\n",
      "Validation set accuracy is 88.75%\n",
      "Training cost in epoch 40 is 0.12182 and accuracy is 97.44%\n",
      "Validation set accuracy is 90.32%\n",
      "Training cost in epoch 60 is 0.07842 and accuracy is 98.76%\n",
      "Validation set accuracy is 90.99%\n",
      "Training cost in epoch 80 is 0.05533 and accuracy is 99.18%\n",
      "Validation set accuracy is 91.21%\n",
      "Training cost in epoch 100 is 0.04209 and accuracy is 99.60%\n",
      "Validation set accuracy is 91.24%\n",
      "Final test cost is 0.04209\n",
      "Accuracy on training data is 99.60%, and accuracy on validation data is 91.24%\n",
      "Training cost at start of training is 4.35708 and accuracy is 14.02%\n",
      "Validation set accuracy is 13.36%\n",
      "Training cost in epoch 0 is 2.29607 and accuracy is 20.00%\n",
      "Validation set accuracy is 18.28%\n",
      "Training cost in epoch 20 is 0.39502 and accuracy is 89.52%\n",
      "Validation set accuracy is 85.14%\n",
      "Training cost in epoch 40 is 0.21976 and accuracy is 94.38%\n",
      "Validation set accuracy is 88.89%\n",
      "Training cost in epoch 60 is 0.15698 and accuracy is 96.16%\n",
      "Validation set accuracy is 89.82%\n",
      "Training cost in epoch 80 is 0.11774 and accuracy is 97.32%\n",
      "Validation set accuracy is 90.58%\n",
      "Training cost in epoch 100 is 0.09145 and accuracy is 98.18%\n",
      "Validation set accuracy is 90.71%\n",
      "Final test cost is 0.09145\n",
      "Accuracy on training data is 98.18%, and accuracy on validation data is 90.71%\n"
     ]
    }
   ],
   "source": [
    "net2 = nn.NeuralNet((784,80,60,40,10), nn.LogLikelihoodCost, nn.ReluActivation, nn.SoftmaxActivation)\n",
    "net2.initialize_variables()\n",
    "learning_rate = 0.001\n",
    "epochs = 101\n",
    "reporting_rate = 20\n",
    "lmda = 0\n",
    "batch_size = 200\n",
    "training_cost, valid_cost = net2.SGD(short_train_x, short_train_y, test_x, test_y, learning_rate, \\\n",
    "        epochs, reporting_rate, lmda, batch_size, verbose=False)\n",
    "print()\n",
    "\n",
    "net2 = nn.NeuralNet((784,80,60,40,10), nn.LogLikelihoodCost, nn.ReluActivation, nn.SoftmaxActivation)\n",
    "net2.initialize_variables()\n",
    "learning_rate = 0.001\n",
    "epochs = 101\n",
    "reporting_rate = 20\n",
    "lmda = 0.5\n",
    "batch_size = 200\n",
    "training_cost, valid_cost = net2.SGD(short_train_x, short_train_y, test_x, test_y, learning_rate, \\\n",
    "        epochs, reporting_rate, lmda, batch_size, verbose=False)\n",
    "\n",
    "net2 = nn.NeuralNet((784,60,40,20,10), nn.LogLikelihoodCost, nn.ReluActivation, nn.SoftmaxActivation)\n",
    "net2.initialize_variables()\n",
    "learning_rate = 0.001\n",
    "epochs = 101\n",
    "reporting_rate = 20\n",
    "lmda = 2.0\n",
    "batch_size = 200\n",
    "training_cost, valid_cost = net2.SGD(short_train_x, short_train_y, test_x, test_y, learning_rate, \\\n",
    "        epochs, reporting_rate, lmda, batch_size, verbose=False)"
   ]
  }
 ],
 "metadata": {
  "kernelspec": {
   "display_name": "Python 3",
   "language": "python",
   "name": "python3"
  },
  "language_info": {
   "codemirror_mode": {
    "name": "ipython",
    "version": 3
   },
   "file_extension": ".py",
   "mimetype": "text/x-python",
   "name": "python",
   "nbconvert_exporter": "python",
   "pygments_lexer": "ipython3",
   "version": "3.5.2"
  }
 },
 "nbformat": 4,
 "nbformat_minor": 0
}
