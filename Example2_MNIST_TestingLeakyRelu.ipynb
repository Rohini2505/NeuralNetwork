{
 "cells": [
  {
   "cell_type": "markdown",
   "metadata": {},
   "source": [
    "## This notebook tests the performance of a Leaky ReLU hidden layer using different output layers, cost functions, learning rates, batch sizes and regularization rates"
   ]
  },
  {
   "cell_type": "code",
   "execution_count": 1,
   "metadata": {
    "collapsed": true
   },
   "outputs": [],
   "source": [
    "import pickle\n",
    "%run NeuralNet2.ipynb\n",
    "train_x = pickle.load(open(\"MNIST_train_x.pkl\", 'rb'))\n",
    "train_y = pickle.load(open(\"MNIST_train_y.pkl\", 'rb'))\n",
    "test_x = pickle.load(open(\"MNIST_test_x.pkl\", 'rb'))\n",
    "test_y = pickle.load(open(\"MNIST_test_y.pkl\", 'rb'))\n",
    "short_train_x = train_x[0:5000,:]\n",
    "short_train_y = train_y[0:5000,:]"
   ]
  },
  {
   "cell_type": "markdown",
   "metadata": {},
   "source": [
    "## Testing Leaky ReLU with Quadratic Cost, Sigmoid output layer and different learning rates"
   ]
  },
  {
   "cell_type": "code",
   "execution_count": 2,
   "metadata": {
    "collapsed": false
   },
   "outputs": [
    {
     "name": "stderr",
     "output_type": "stream",
     "text": [
      "/Users/lauragraesser/anaconda3/anaconda/lib/python3.5/site-packages/ipykernel/__main__.py:164: RuntimeWarning: overflow encountered in exp\n",
      "/Users/lauragraesser/anaconda3/anaconda/lib/python3.5/site-packages/ipykernel/__main__.py:405: RuntimeWarning: invalid value encountered in true_divide\n"
     ]
    },
    {
     "name": "stdout",
     "output_type": "stream",
     "text": [
      "Training cost at start of training is 1.82052 and accuracy is 5.98%\n",
      "Validation set accuracy is 6.13%\n",
      "Training cost in epoch 0 is 0.50000 and accuracy is 9.58%\n",
      "Validation set accuracy is 9.80%\n",
      "Training cost in epoch 20 is 0.50000 and accuracy is 9.58%\n",
      "Validation set accuracy is 9.80%\n",
      "Training cost in epoch 40 is 0.50000 and accuracy is 9.58%\n",
      "Validation set accuracy is 9.80%\n",
      "Training cost in epoch 60 is 0.50000 and accuracy is 9.58%\n",
      "Validation set accuracy is 9.80%\n",
      "Final test cost is 0.50000\n",
      "Accuracy on training data is 9.58%, and accuracy on validation data is 9.80%\n",
      "Training cost at start of training is 1.82052 and accuracy is 5.98%\n",
      "Validation set accuracy is 6.13%\n",
      "Training cost in epoch 0 is 0.50000 and accuracy is 10.70%\n",
      "Validation set accuracy is 9.83%\n",
      "Training cost in epoch 20 is 0.50000 and accuracy is 10.70%\n",
      "Validation set accuracy is 9.83%\n",
      "Training cost in epoch 40 is 0.50000 and accuracy is 10.70%\n",
      "Validation set accuracy is 9.83%\n",
      "Training cost in epoch 60 is 0.50000 and accuracy is 10.70%\n",
      "Validation set accuracy is 9.83%\n",
      "Final test cost is 0.50000\n",
      "Accuracy on training data is 10.70%, and accuracy on validation data is 9.83%\n",
      "Training cost at start of training is 1.82052 and accuracy is 5.98%\n",
      "Validation set accuracy is 6.13%\n",
      "Training cost in epoch 0 is 0.47523 and accuracy is 19.24%\n",
      "Validation set accuracy is 19.41%\n",
      "Training cost in epoch 20 is 0.28035 and accuracy is 49.86%\n",
      "Validation set accuracy is 49.61%\n",
      "Training cost in epoch 40 is 0.22793 and accuracy is 58.28%\n",
      "Validation set accuracy is 57.14%\n",
      "Training cost in epoch 60 is 0.21757 and accuracy is 58.90%\n",
      "Validation set accuracy is 57.73%\n",
      "Final test cost is 0.21757\n",
      "Accuracy on training data is 58.90%, and accuracy on validation data is 57.73%\n",
      "Training cost at start of training is 1.82052 and accuracy is 5.98%\n",
      "Validation set accuracy is 6.13%\n",
      "Training cost in epoch 0 is 0.51946 and accuracy is 18.96%\n",
      "Validation set accuracy is 18.35%\n",
      "Training cost in epoch 20 is 0.39530 and accuracy is 33.10%\n",
      "Validation set accuracy is 34.13%\n",
      "Training cost in epoch 40 is 0.34942 and accuracy is 42.10%\n",
      "Validation set accuracy is 42.54%\n",
      "Training cost in epoch 60 is 0.29926 and accuracy is 50.28%\n",
      "Validation set accuracy is 50.11%\n",
      "Final test cost is 0.29926\n",
      "Accuracy on training data is 50.28%, and accuracy on validation data is 50.11%\n"
     ]
    }
   ],
   "source": [
    "net2 = NeuralNet((784,100,10), QuadraticCost, LeakyReluActivation, SigmoidActivation)\n",
    "net2.initialize_variables()\n",
    "learning_rate = 1\n",
    "epochs = 61\n",
    "reporting_rate = 20\n",
    "lmda = 0\n",
    "batch_size = 200\n",
    "training_cost, valid_cost = net2.SGD(short_train_x, short_train_y, test_x, test_y, learning_rate, \\\n",
    "        epochs, reporting_rate, lmda, batch_size, verbose=False)\n",
    "\n",
    "net2 = NeuralNet((784,100,10), QuadraticCost, LeakyReluActivation, SigmoidActivation)\n",
    "net2.initialize_variables()\n",
    "learning_rate = 0.1\n",
    "epochs = 61\n",
    "reporting_rate = 20\n",
    "lmda = 0\n",
    "batch_size = 200\n",
    "training_cost, valid_cost = net2.SGD(short_train_x, short_train_y, test_x, test_y, learning_rate, \\\n",
    "        epochs, reporting_rate, lmda, batch_size, verbose=False)\n",
    "\n",
    "net2 = NeuralNet((784,100,10), QuadraticCost, LeakyReluActivation, SigmoidActivation)\n",
    "net2.initialize_variables()\n",
    "learning_rate = 0.01\n",
    "epochs = 61\n",
    "reporting_rate = 20\n",
    "lmda = 0\n",
    "batch_size = 200\n",
    "training_cost, valid_cost = net2.SGD(short_train_x, short_train_y, test_x, test_y, learning_rate, \\\n",
    "        epochs, reporting_rate, lmda, batch_size, verbose=False)\n",
    "\n",
    "net2 = NeuralNet((784,100,10), QuadraticCost, LeakyReluActivation, SigmoidActivation)\n",
    "net2.initialize_variables()\n",
    "learning_rate = 0.001\n",
    "epochs = 61\n",
    "reporting_rate = 20\n",
    "lmda = 0\n",
    "batch_size = 200\n",
    "training_cost, valid_cost = net2.SGD(short_train_x, short_train_y, test_x, test_y, learning_rate, \\\n",
    "        epochs, reporting_rate, lmda, batch_size, verbose=False)"
   ]
  },
  {
   "cell_type": "markdown",
   "metadata": {},
   "source": [
    "## Testing Leaky ReLU with Cross Entropy Cost, Sigmoid output layer and different learning rates"
   ]
  },
  {
   "cell_type": "code",
   "execution_count": 3,
   "metadata": {
    "collapsed": false
   },
   "outputs": [
    {
     "name": "stderr",
     "output_type": "stream",
     "text": [
      "/Users/lauragraesser/anaconda3/anaconda/lib/python3.5/site-packages/ipykernel/__main__.py:113: RuntimeWarning: divide by zero encountered in log\n",
      "/Users/lauragraesser/anaconda3/anaconda/lib/python3.5/site-packages/ipykernel/__main__.py:113: RuntimeWarning: invalid value encountered in multiply\n",
      "/Users/lauragraesser/anaconda3/anaconda/lib/python3.5/site-packages/ipykernel/__main__.py:164: RuntimeWarning: overflow encountered in exp\n"
     ]
    },
    {
     "name": "stdout",
     "output_type": "stream",
     "text": [
      "Training cost at start of training is nan and accuracy is 5.98%\n",
      "Validation set accuracy is 6.13%\n",
      "Training cost in epoch 0 is nan and accuracy is 9.58%"
     ]
    },
    {
     "name": "stderr",
     "output_type": "stream",
     "text": [
      "/Users/lauragraesser/anaconda3/anaconda/lib/python3.5/site-packages/ipykernel/__main__.py:118: RuntimeWarning: overflow encountered in multiply\n",
      "/Users/lauragraesser/anaconda3/anaconda/lib/python3.5/site-packages/ipykernel/__main__.py:119: RuntimeWarning: invalid value encountered in double_scalars\n",
      "/Users/lauragraesser/anaconda3/anaconda/lib/python3.5/site-packages/ipykernel/__main__.py:202: RuntimeWarning: invalid value encountered in less\n"
     ]
    },
    {
     "name": "stdout",
     "output_type": "stream",
     "text": [
      "\n",
      "Validation set accuracy is 9.80%\n",
      "Training cost in epoch 20 is nan and accuracy is 9.58%\n",
      "Validation set accuracy is 9.80%\n",
      "Training cost in epoch 40 is nan and accuracy is 9.58%\n",
      "Validation set accuracy is 9.80%\n",
      "Training cost in epoch 60 is nan and accuracy is 9.58%\n",
      "Validation set accuracy is 9.80%\n",
      "Final test cost is nan\n",
      "Accuracy on training data is 9.58%, and accuracy on validation data is 9.80%\n",
      "Training cost at start of training is nan and accuracy is 5.98%\n",
      "Validation set accuracy is 6.13%\n",
      "Training cost in epoch 0 is nan and accuracy is 9.58%\n",
      "Validation set accuracy is 9.80%\n",
      "Training cost in epoch 20 is nan and accuracy is 9.58%\n",
      "Validation set accuracy is 9.80%\n",
      "Training cost in epoch 40 is nan and accuracy is 9.58%\n",
      "Validation set accuracy is 9.80%\n",
      "Training cost in epoch 60 is nan and accuracy is 9.58%\n",
      "Validation set accuracy is 9.80%\n",
      "Final test cost is nan\n",
      "Accuracy on training data is 9.58%, and accuracy on validation data is 9.80%\n",
      "Training cost at start of training is nan and accuracy is 5.98%\n",
      "Validation set accuracy is 6.13%\n",
      "Training cost in epoch 0 is nan and accuracy is 9.58%\n",
      "Validation set accuracy is 9.80%\n",
      "Training cost in epoch 20 is nan and accuracy is 9.58%\n",
      "Validation set accuracy is 9.80%\n",
      "Training cost in epoch 40 is nan and accuracy is 9.58%\n",
      "Validation set accuracy is 9.80%\n",
      "Training cost in epoch 60 is nan and accuracy is 9.58%\n",
      "Validation set accuracy is 9.80%\n",
      "Final test cost is nan\n",
      "Accuracy on training data is 9.58%, and accuracy on validation data is 9.80%\n",
      "Training cost at start of training is nan and accuracy is 5.98%\n",
      "Validation set accuracy is 6.13%\n",
      "Training cost in epoch 0 is 1.79640 and accuracy is 78.30%\n",
      "Validation set accuracy is 75.24%\n",
      "Training cost in epoch 20 is 0.34580 and accuracy is 95.82%\n",
      "Validation set accuracy is 90.08%\n",
      "Training cost in epoch 40 is 0.19313 and accuracy is 98.02%\n",
      "Validation set accuracy is 90.98%\n",
      "Training cost in epoch 60 is 0.12501 and accuracy is 99.12%\n",
      "Validation set accuracy is 91.27%\n",
      "Final test cost is 0.12501\n",
      "Accuracy on training data is 99.12%, and accuracy on validation data is 91.27%\n"
     ]
    },
    {
     "name": "stderr",
     "output_type": "stream",
     "text": [
      "/Users/lauragraesser/anaconda3/anaconda/lib/python3.5/site-packages/ipykernel/__main__.py:212: RuntimeWarning: invalid value encountered in less\n",
      "/Users/lauragraesser/anaconda3/anaconda/lib/python3.5/site-packages/ipykernel/__main__.py:213: RuntimeWarning: invalid value encountered in greater_equal\n"
     ]
    }
   ],
   "source": [
    "net2 = NeuralNet((784,100,10), CrossEntropyCost, LeakyReluActivation, SigmoidActivation)\n",
    "net2.initialize_variables()\n",
    "learning_rate = 1\n",
    "epochs = 61\n",
    "reporting_rate = 20\n",
    "lmda = 0\n",
    "batch_size = 200\n",
    "training_cost, valid_cost = net2.SGD(short_train_x, short_train_y, test_x, test_y, learning_rate, \\\n",
    "        epochs, reporting_rate, lmda, batch_size, verbose=False)\n",
    "\n",
    "net2 = NeuralNet((784,100,10), CrossEntropyCost, LeakyReluActivation, SigmoidActivation)\n",
    "net2.initialize_variables()\n",
    "learning_rate = 0.1\n",
    "epochs = 61\n",
    "reporting_rate = 20\n",
    "lmda = 0\n",
    "batch_size = 200\n",
    "training_cost, valid_cost = net2.SGD(short_train_x, short_train_y, test_x, test_y, learning_rate, \\\n",
    "        epochs, reporting_rate, lmda, batch_size, verbose=False)\n",
    "\n",
    "net2 = NeuralNet((784,100,10), CrossEntropyCost, LeakyReluActivation, SigmoidActivation)\n",
    "net2.initialize_variables()\n",
    "learning_rate = 0.01\n",
    "epochs = 61\n",
    "reporting_rate = 20\n",
    "lmda = 0\n",
    "batch_size = 200\n",
    "training_cost, valid_cost = net2.SGD(short_train_x, short_train_y, test_x, test_y, learning_rate, \\\n",
    "        epochs, reporting_rate, lmda, batch_size, verbose=False)\n",
    "\n",
    "net2 = NeuralNet((784,100,10), CrossEntropyCost, LeakyReluActivation, SigmoidActivation)\n",
    "net2.initialize_variables()\n",
    "learning_rate = 0.001\n",
    "epochs = 61\n",
    "reporting_rate = 20\n",
    "lmda = 0\n",
    "batch_size = 200\n",
    "training_cost, valid_cost = net2.SGD(short_train_x, short_train_y, test_x, test_y, learning_rate, \\\n",
    "        epochs, reporting_rate, lmda, batch_size, verbose=False)"
   ]
  },
  {
   "cell_type": "markdown",
   "metadata": {},
   "source": [
    "## Testing Leaky ReLU with Log Likelihood Cost, Softmax output layer and different learning rates"
   ]
  },
  {
   "cell_type": "code",
   "execution_count": 4,
   "metadata": {
    "collapsed": false
   },
   "outputs": [
    {
     "name": "stdout",
     "output_type": "stream",
     "text": [
      "Training cost at start of training is 6.37043 and accuracy is 5.98%\n",
      "Validation set accuracy is 6.11%\n",
      "Training cost in epoch 0 is 6.23374 and accuracy is 9.90%"
     ]
    },
    {
     "name": "stderr",
     "output_type": "stream",
     "text": [
      "/Users/lauragraesser/anaconda3/anaconda/lib/python3.5/site-packages/ipykernel/__main__.py:227: RuntimeWarning: invalid value encountered in subtract\n",
      "/Users/lauragraesser/anaconda3/anaconda/lib/python3.5/site-packages/ipykernel/__main__.py:202: RuntimeWarning: invalid value encountered in less\n"
     ]
    },
    {
     "name": "stdout",
     "output_type": "stream",
     "text": [
      "\n",
      "Validation set accuracy is 10.09%\n",
      "Training cost in epoch 20 is nan and accuracy is 9.58%\n",
      "Validation set accuracy is 9.80%\n",
      "Training cost in epoch 40 is nan and accuracy is 9.58%\n",
      "Validation set accuracy is 9.80%\n",
      "Training cost in epoch 60 is nan and accuracy is 9.58%\n",
      "Validation set accuracy is 9.80%\n",
      "Final test cost is nan\n",
      "Accuracy on training data is 9.58%, and accuracy on validation data is 9.80%\n",
      "Training cost at start of training is 6.37043 and accuracy is 5.98%\n",
      "Validation set accuracy is 6.11%\n",
      "Training cost in epoch 0 is 6.25585 and accuracy is 9.58%"
     ]
    },
    {
     "name": "stderr",
     "output_type": "stream",
     "text": [
      "/Users/lauragraesser/anaconda3/anaconda/lib/python3.5/site-packages/ipykernel/__main__.py:212: RuntimeWarning: invalid value encountered in less\n",
      "/Users/lauragraesser/anaconda3/anaconda/lib/python3.5/site-packages/ipykernel/__main__.py:213: RuntimeWarning: invalid value encountered in greater_equal\n",
      "/Users/lauragraesser/anaconda3/anaconda/lib/python3.5/site-packages/ipykernel/__main__.py:147: RuntimeWarning: overflow encountered in multiply\n"
     ]
    },
    {
     "name": "stdout",
     "output_type": "stream",
     "text": [
      "\n",
      "Validation set accuracy is 9.80%\n",
      "Training cost in epoch 20 is nan and accuracy is 9.58%\n",
      "Validation set accuracy is 9.80%\n",
      "Training cost in epoch 40 is nan and accuracy is 9.58%\n",
      "Validation set accuracy is 9.80%\n",
      "Training cost in epoch 60 is nan and accuracy is 9.58%\n",
      "Validation set accuracy is 9.80%\n",
      "Final test cost is nan\n",
      "Accuracy on training data is 9.58%, and accuracy on validation data is 9.80%\n",
      "Training cost at start of training is 6.37043 and accuracy is 5.98%\n",
      "Validation set accuracy is 6.11%\n",
      "Training cost in epoch 0 is 6.23650 and accuracy is 9.86%\n",
      "Validation set accuracy is 10.10%\n",
      "Training cost in epoch 20 is nan and accuracy is 9.58%\n",
      "Validation set accuracy is 9.80%\n",
      "Training cost in epoch 40 is nan and accuracy is 9.58%\n",
      "Validation set accuracy is 9.80%\n",
      "Training cost in epoch 60 is nan and accuracy is 9.58%\n",
      "Validation set accuracy is 9.80%\n",
      "Final test cost is nan\n",
      "Accuracy on training data is 9.58%, and accuracy on validation data is 9.80%\n",
      "Training cost at start of training is 6.37043 and accuracy is 5.98%\n",
      "Validation set accuracy is 6.11%\n",
      "Training cost in epoch 0 is 0.77305 and accuracy is 81.06%\n",
      "Validation set accuracy is 75.42%\n",
      "Training cost in epoch 20 is 0.05964 and accuracy is 98.90%\n",
      "Validation set accuracy is 88.85%\n",
      "Training cost in epoch 40 is 0.03495 and accuracy is 99.40%\n",
      "Validation set accuracy is 90.06%\n",
      "Training cost in epoch 60 is 0.03109 and accuracy is 99.22%\n",
      "Validation set accuracy is 90.34%\n",
      "Final test cost is 0.03109\n",
      "Accuracy on training data is 99.22%, and accuracy on validation data is 90.34%\n"
     ]
    },
    {
     "name": "stderr",
     "output_type": "stream",
     "text": [
      "/Users/lauragraesser/anaconda3/anaconda/lib/python3.5/site-packages/ipykernel/__main__.py:148: RuntimeWarning: invalid value encountered in double_scalars\n"
     ]
    }
   ],
   "source": [
    "net2 = NeuralNet((784,100,10), LogLikelihoodCost, LeakyReluActivation, SoftmaxActivation)\n",
    "net2.initialize_variables()\n",
    "learning_rate = 1\n",
    "epochs = 61\n",
    "reporting_rate = 20\n",
    "lmda = 0\n",
    "batch_size = 200\n",
    "training_cost, valid_cost = net2.SGD(short_train_x, short_train_y, test_x, test_y, learning_rate, \\\n",
    "        epochs, reporting_rate, lmda, batch_size, verbose=False)\n",
    "\n",
    "net2 = NeuralNet((784,100,10), LogLikelihoodCost, LeakyReluActivation, SoftmaxActivation)\n",
    "net2.initialize_variables()\n",
    "learning_rate = 0.1\n",
    "epochs = 61\n",
    "reporting_rate = 20\n",
    "lmda = 0\n",
    "batch_size = 200\n",
    "training_cost, valid_cost = net2.SGD(short_train_x, short_train_y, test_x, test_y, learning_rate, \\\n",
    "        epochs, reporting_rate, lmda, batch_size, verbose=False)\n",
    "\n",
    "net2 = NeuralNet((784,100,10), LogLikelihoodCost, LeakyReluActivation, SoftmaxActivation)\n",
    "net2.initialize_variables()\n",
    "learning_rate = 0.01\n",
    "epochs = 61\n",
    "reporting_rate = 20\n",
    "lmda = 0\n",
    "batch_size = 200\n",
    "training_cost, valid_cost = net2.SGD(short_train_x, short_train_y, test_x, test_y, learning_rate, \\\n",
    "        epochs, reporting_rate, lmda, batch_size, verbose=False)\n",
    "\n",
    "net2 = NeuralNet((784,100,10), LogLikelihoodCost, LeakyReluActivation, SoftmaxActivation)\n",
    "net2.initialize_variables()\n",
    "learning_rate = 0.001\n",
    "epochs = 61\n",
    "reporting_rate = 20\n",
    "lmda = 0\n",
    "batch_size = 200\n",
    "training_cost, valid_cost = net2.SGD(short_train_x, short_train_y, test_x, test_y, learning_rate, \\\n",
    "        epochs, reporting_rate, lmda, batch_size, verbose=False)"
   ]
  },
  {
   "cell_type": "markdown",
   "metadata": {},
   "source": [
    "## Testing Leaky ReLU with Log Likelihood Cost, Softmax output layer, smaller batch sizes, learning rate shrunk with batch size"
   ]
  },
  {
   "cell_type": "code",
   "execution_count": 3,
   "metadata": {
    "collapsed": false
   },
   "outputs": [
    {
     "name": "stdout",
     "output_type": "stream",
     "text": [
      "Training cost at start of training is 6.37043 and accuracy is 5.98%\n",
      "Validation set accuracy is 6.11%\n",
      "Training cost in epoch 0 is 0.75266 and accuracy is 83.32%\n",
      "Validation set accuracy is 78.23%\n",
      "Training cost in epoch 20 is 0.04247 and accuracy is 99.12%\n",
      "Validation set accuracy is 88.90%\n",
      "Training cost in epoch 40 is 0.03895 and accuracy is 99.00%\n",
      "Validation set accuracy is 90.10%\n",
      "Training cost in epoch 60 is 0.03323 and accuracy is 99.20%\n",
      "Validation set accuracy is 90.31%\n",
      "Final test cost is 0.03323\n",
      "Accuracy on training data is 99.20%, and accuracy on validation data is 90.31%\n",
      "Training cost at start of training is 6.37043 and accuracy is 5.98%\n",
      "Validation set accuracy is 6.11%\n",
      "Training cost in epoch 0 is 0.70377 and accuracy is 84.50%\n",
      "Validation set accuracy is 79.58%\n",
      "Training cost in epoch 20 is 0.03959 and accuracy is 98.98%\n",
      "Validation set accuracy is 89.55%\n",
      "Training cost in epoch 40 is 0.02891 and accuracy is 99.30%\n",
      "Validation set accuracy is 90.57%\n",
      "Training cost in epoch 60 is 0.08721 and accuracy is 98.00%\n",
      "Validation set accuracy is 90.21%\n",
      "Final test cost is 0.08721\n",
      "Accuracy on training data is 98.00%, and accuracy on validation data is 90.21%\n",
      "Training cost at start of training is 6.37043 and accuracy is 5.98%\n",
      "Validation set accuracy is 6.11%\n",
      "Training cost in epoch 0 is 0.85281 and accuracy is 82.02%\n",
      "Validation set accuracy is 76.31%\n",
      "Training cost in epoch 20 is 0.04511 and accuracy is 99.00%\n",
      "Validation set accuracy is 88.69%\n",
      "Training cost in epoch 40 is 0.02230 and accuracy is 99.70%\n",
      "Validation set accuracy is 89.93%\n",
      "Training cost in epoch 60 is 0.03019 and accuracy is 99.34%\n",
      "Validation set accuracy is 90.07%\n",
      "Final test cost is 0.03019\n",
      "Accuracy on training data is 99.34%, and accuracy on validation data is 90.07%\n"
     ]
    }
   ],
   "source": [
    "net2 = NeuralNet((784,100,10), LogLikelihoodCost, LeakyReluActivation, SoftmaxActivation)\n",
    "net2.initialize_variables()\n",
    "learning_rate = 0.0005\n",
    "epochs = 61\n",
    "reporting_rate = 20\n",
    "lmda = 0\n",
    "batch_size = 100\n",
    "training_cost, valid_cost = net2.SGD(short_train_x, short_train_y, test_x, test_y, learning_rate, \\\n",
    "        epochs, reporting_rate, lmda, batch_size, verbose=False)\n",
    "\n",
    "net2 = NeuralNet((784,100,10), LogLikelihoodCost, LeakyReluActivation, SoftmaxActivation)\n",
    "net2.initialize_variables()\n",
    "learning_rate = 0.0003\n",
    "epochs = 61\n",
    "reporting_rate = 20\n",
    "lmda = 0\n",
    "batch_size = 50\n",
    "training_cost, valid_cost = net2.SGD(short_train_x, short_train_y, test_x, test_y, learning_rate, \\\n",
    "        epochs, reporting_rate, lmda, batch_size, verbose=False)\n",
    "\n",
    "net2 = NeuralNet((784,100,10), LogLikelihoodCost, LeakyReluActivation, SoftmaxActivation)\n",
    "net2.initialize_variables()\n",
    "learning_rate = 0.0001\n",
    "epochs = 61\n",
    "reporting_rate = 20\n",
    "lmda = 0\n",
    "batch_size = 25\n",
    "training_cost, valid_cost = net2.SGD(short_train_x, short_train_y, test_x, test_y, learning_rate, \\\n",
    "        epochs, reporting_rate, lmda, batch_size, verbose=False)"
   ]
  },
  {
   "cell_type": "markdown",
   "metadata": {},
   "source": [
    "## Testing Leaky ReLU with Log Likelihood Cost, Softmax output layer, batch size = 100, learning rate = 0.0002, different regularization rates"
   ]
  },
  {
   "cell_type": "code",
   "execution_count": 6,
   "metadata": {
    "collapsed": false
   },
   "outputs": [
    {
     "name": "stdout",
     "output_type": "stream",
     "text": [
      "Training cost at start of training is 6.37412 and accuracy is 5.98%\n",
      "Validation set accuracy is 6.11%\n",
      "Training cost in epoch 0 is 1.24978 and accuracy is 74.96%\n",
      "Validation set accuracy is 70.10%\n",
      "Training cost in epoch 20 is 0.10930 and accuracy is 97.74%\n",
      "Validation set accuracy is 87.01%\n",
      "Training cost in epoch 40 is 0.04242 and accuracy is 99.58%\n",
      "Validation set accuracy is 88.77%\n",
      "Training cost in epoch 60 is 0.03021 and accuracy is 99.74%\n",
      "Validation set accuracy is 89.41%\n",
      "Final test cost is 0.03021\n",
      "Accuracy on training data is 99.74%, and accuracy on validation data is 89.41%\n",
      "Training cost at start of training is 6.37154 and accuracy is 5.98%\n",
      "Validation set accuracy is 6.11%\n",
      "Training cost in epoch 0 is 1.24727 and accuracy is 74.96%\n",
      "Validation set accuracy is 70.10%\n",
      "Training cost in epoch 20 is 0.10678 and accuracy is 97.70%\n",
      "Validation set accuracy is 86.98%\n",
      "Training cost in epoch 40 is 0.03968 and accuracy is 99.60%\n",
      "Validation set accuracy is 88.73%\n",
      "Training cost in epoch 60 is 0.02758 and accuracy is 99.76%\n",
      "Validation set accuracy is 89.38%\n",
      "Final test cost is 0.02758\n",
      "Accuracy on training data is 99.76%, and accuracy on validation data is 89.38%\n",
      "Training cost at start of training is 6.37080 and accuracy is 5.98%\n",
      "Validation set accuracy is 6.11%\n",
      "Training cost in epoch 0 is 1.24655 and accuracy is 74.96%\n",
      "Validation set accuracy is 70.10%\n",
      "Training cost in epoch 20 is 0.10606 and accuracy is 97.70%\n",
      "Validation set accuracy is 86.98%\n",
      "Training cost in epoch 40 is 0.03891 and accuracy is 99.60%\n",
      "Validation set accuracy is 88.73%\n",
      "Training cost in epoch 60 is 0.02682 and accuracy is 99.76%\n",
      "Validation set accuracy is 89.37%\n",
      "Final test cost is 0.02682\n",
      "Accuracy on training data is 99.76%, and accuracy on validation data is 89.37%\n"
     ]
    }
   ],
   "source": [
    "net2 = NeuralNet((784,100,10), LogLikelihoodCost, LeakyReluActivation, SoftmaxActivation)\n",
    "net2.initialize_variables()\n",
    "learning_rate = 0.0002\n",
    "epochs = 61\n",
    "reporting_rate = 20\n",
    "lmda = 1\n",
    "batch_size = 100\n",
    "training_cost, valid_cost = net2.SGD(short_train_x, short_train_y, test_x, test_y, learning_rate, \\\n",
    "        epochs, reporting_rate, lmda, batch_size, verbose=False)\n",
    "\n",
    "net2 = NeuralNet((784,100,10), LogLikelihoodCost, LeakyReluActivation, SoftmaxActivation)\n",
    "net2.initialize_variables()\n",
    "learning_rate = 0.0002\n",
    "epochs = 61\n",
    "reporting_rate = 20\n",
    "lmda = 0.3\n",
    "batch_size = 100\n",
    "training_cost, valid_cost = net2.SGD(short_train_x, short_train_y, test_x, test_y, learning_rate, \\\n",
    "        epochs, reporting_rate, lmda, batch_size, verbose=False)\n",
    "\n",
    "net2 = NeuralNet((784,100,10), LogLikelihoodCost, LeakyReluActivation, SoftmaxActivation)\n",
    "net2.initialize_variables()\n",
    "learning_rate = 0.0002\n",
    "epochs = 61\n",
    "reporting_rate = 20\n",
    "lmda = 0.1\n",
    "batch_size = 100\n",
    "training_cost, valid_cost = net2.SGD(short_train_x, short_train_y, test_x, test_y, learning_rate, \\\n",
    "        epochs, reporting_rate, lmda, batch_size, verbose=False)"
   ]
  }
 ],
 "metadata": {
  "kernelspec": {
   "display_name": "Python 3",
   "language": "python",
   "name": "python3"
  },
  "language_info": {
   "codemirror_mode": {
    "name": "ipython",
    "version": 3
   },
   "file_extension": ".py",
   "mimetype": "text/x-python",
   "name": "python",
   "nbconvert_exporter": "python",
   "pygments_lexer": "ipython3",
   "version": "3.5.1"
  }
 },
 "nbformat": 4,
 "nbformat_minor": 0
}
