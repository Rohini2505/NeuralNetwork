{
 "cells": [
  {
   "cell_type": "markdown",
   "metadata": {},
   "source": [
    "## Separating a donut and a ball dataset\n",
    "- This notebook tests the minimum number of nodes required in the hidden layer to fully separate the two classes in the dataset\n",
    "- See \"A Neural Network Program in Python: Part 2\" on www.learningmachinelearning.org for more information on the dataset and classification problem"
   ]
  },
  {
   "cell_type": "code",
   "execution_count": 2,
   "metadata": {
    "collapsed": false
   },
   "outputs": [],
   "source": [
    "import pickle\n",
    "import NeuralNetwork as nn\n",
    "\n",
    "train_x = pickle.load( open( \"nn_donutballdata_train_x.pkl\", \"rb\" ) )\n",
    "train_y = pickle.load( open( \"nn_donutballdata_train_y.pkl\", \"rb\" ) )\n",
    "test_x = pickle.load( open( \"nn_donutballdata_test_x.pkl\", \"rb\" ) )\n",
    "test_y = pickle.load( open( \"nn_donutballdata_test_y.pkl\", \"rb\" ) )"
   ]
  },
  {
   "cell_type": "markdown",
   "metadata": {},
   "source": [
    "## Neural net with only 2 nodes in the hidden layer\n",
    "- Network is unable to fully separate the data, achieving only 83 - 84.5% accuracy at best\n",
    "- As discussed in \"A Neural Network Program in Python: Part 2\" this is likely because the original data needs to be projected onto a minimum of three dimensions for it to be linearly separable"
   ]
  },
  {
   "cell_type": "code",
   "execution_count": 5,
   "metadata": {
    "collapsed": false
   },
   "outputs": [
    {
     "name": "stdout",
     "output_type": "stream",
     "text": [
      "Results for (2,2,1) neural network with quadratic cost and sigmoid activations\n",
      "Training cost at start of training is 0.11853 and accuracy is 61.64%\n",
      "Validation set accuracy is 56.45%\n",
      "Training cost in epoch 0 is 0.11832 and accuracy is 61.64%\n",
      "Validation set accuracy is 56.45%\n",
      "Training cost in epoch 200 is 0.11798 and accuracy is 61.64%\n",
      "Validation set accuracy is 56.45%\n",
      "Training cost in epoch 400 is 0.11560 and accuracy is 61.64%\n",
      "Validation set accuracy is 56.45%\n",
      "Training cost in epoch 600 is 0.08300 and accuracy is 79.43%\n",
      "Validation set accuracy is 77.15%\n",
      "Training cost in epoch 800 is 0.06076 and accuracy is 82.93%\n",
      "Validation set accuracy is 82.26%\n",
      "Training cost in epoch 1000 is 0.05920 and accuracy is 82.71%\n",
      "Validation set accuracy is 81.99%\n",
      "Training cost in epoch 1200 is 0.05863 and accuracy is 83.00%\n",
      "Validation set accuracy is 83.60%\n",
      "Training cost in epoch 1400 is 0.05832 and accuracy is 83.29%\n",
      "Validation set accuracy is 83.33%\n",
      "Training cost in epoch 1600 is 0.05811 and accuracy is 83.29%\n",
      "Validation set accuracy is 83.60%\n",
      "Training cost in epoch 1800 is 0.05798 and accuracy is 83.50%\n",
      "Validation set accuracy is 84.14%\n",
      "Training cost in epoch 2000 is 0.05783 and accuracy is 83.50%\n",
      "Validation set accuracy is 84.41%\n",
      "Final test cost is 0.05783\n",
      "Accuracy on training data is 83.50%, and accuracy on validation data is 84.41%\n",
      "\n",
      "Results for (2,2,1) neural network with cross entropy cost and sigmoid activations\n",
      "Training cost at start of training is 0.66709 and accuracy is 61.64%\n",
      "Validation set accuracy is 56.45%\n",
      "Training cost in epoch 0 is 0.66779 and accuracy is 61.64%\n",
      "Validation set accuracy is 56.45%\n",
      "Training cost in epoch 200 is 0.36025 and accuracy is 82.50%\n",
      "Validation set accuracy is 82.53%\n",
      "Training cost in epoch 400 is 0.34329 and accuracy is 82.86%\n",
      "Validation set accuracy is 83.87%\n",
      "Training cost in epoch 600 is 0.33915 and accuracy is 83.14%\n",
      "Validation set accuracy is 83.87%\n",
      "Training cost in epoch 800 is 0.33696 and accuracy is 83.50%\n",
      "Validation set accuracy is 84.14%\n",
      "Training cost in epoch 1000 is 0.33505 and accuracy is 83.71%\n",
      "Validation set accuracy is 83.87%\n",
      "Training cost in epoch 1200 is 0.33383 and accuracy is 83.86%\n",
      "Validation set accuracy is 83.60%\n",
      "Training cost in epoch 1400 is 0.33284 and accuracy is 83.93%\n",
      "Validation set accuracy is 83.87%\n",
      "Training cost in epoch 1600 is 0.33190 and accuracy is 83.50%\n",
      "Validation set accuracy is 83.60%\n",
      "Training cost in epoch 1800 is 0.33173 and accuracy is 84.29%\n",
      "Validation set accuracy is 84.68%\n",
      "Training cost in epoch 2000 is 0.33036 and accuracy is 84.07%\n",
      "Validation set accuracy is 83.33%\n",
      "Final test cost is 0.33036\n",
      "Accuracy on training data is 84.07%, and accuracy on validation data is 83.33%\n"
     ]
    }
   ],
   "source": [
    "net = nn.NeuralNet((2,2,1), nn.QuadraticCost, nn.SigmoidActivation, nn.SigmoidActivation)\n",
    "net.initialize_variables()\n",
    "learning_rate = 0.1\n",
    "batch_size = 10\n",
    "lmda = 0\n",
    "epochs = 2001\n",
    "reporting_rate = 200\n",
    "print(\"Results for (2,2,1) neural network with quadratic cost and sigmoid activations\")\n",
    "training_cost, valid_cost = net.SGD(train_x, train_y, test_x, test_y, learning_rate, epochs, \n",
    "                                    reporting_rate, lmda, batch_size)\n",
    "print()\n",
    "\n",
    "net = nn.NeuralNet((2,2,1), nn.CrossEntropyCost, nn.SigmoidActivation, nn.SigmoidActivation)\n",
    "net.initialize_variables()\n",
    "learning_rate = 0.1\n",
    "batch_size = 10\n",
    "lmda = 0\n",
    "epochs = 2001\n",
    "reporting_rate = 200\n",
    "print(\"Results for (2,2,1) neural network with cross entropy cost and sigmoid activations\")\n",
    "training_cost, valid_cost = net.SGD(train_x, train_y, test_x, test_y, learning_rate, epochs, \n",
    "                                    reporting_rate, lmda, batch_size)"
   ]
  },
  {
   "cell_type": "markdown",
   "metadata": {},
   "source": [
    "## Neural net with 3 nodes in the hidden layer\n",
    "- Network is able to fully separate the data, as expected "
   ]
  },
  {
   "cell_type": "code",
   "execution_count": 4,
   "metadata": {
    "collapsed": false
   },
   "outputs": [
    {
     "name": "stdout",
     "output_type": "stream",
     "text": [
      "Results for (2,3,1) neural network with quadratic cost and sigmoid activations\n",
      "Training cost at start of training is 0.12250 and accuracy is 61.64%\n",
      "Validation set accuracy is 56.45%\n",
      "Training cost in epoch 0 is 0.11906 and accuracy is 61.64%\n",
      "Validation set accuracy is 56.45%\n",
      "Training cost in epoch 200 is 0.11813 and accuracy is 61.64%\n",
      "Validation set accuracy is 56.45%\n",
      "Training cost in epoch 400 is 0.11611 and accuracy is 61.64%\n",
      "Validation set accuracy is 56.45%\n",
      "Training cost in epoch 600 is 0.08969 and accuracy is 76.79%\n",
      "Validation set accuracy is 73.92%\n",
      "Training cost in epoch 800 is 0.03496 and accuracy is 95.43%\n",
      "Validation set accuracy is 96.24%\n",
      "Training cost in epoch 1000 is 0.00627 and accuracy is 100.00%\n",
      "Validation set accuracy is 100.00%\n",
      "Final test cost is 0.00627\n",
      "Accuracy on training data is 100.00%, and accuracy on validation data is 100.00%\n",
      "\n",
      "Results for (2,3,1) neural network with cross entropy cost and sigmoid activations\n",
      "Training cost at start of training is 0.68544 and accuracy is 61.64%\n",
      "Validation set accuracy is 56.45%\n",
      "Training cost in epoch 0 is 0.66928 and accuracy is 61.64%\n",
      "Validation set accuracy is 56.45%\n",
      "Training cost in epoch 200 is 0.09981 and accuracy is 100.00%\n",
      "Validation set accuracy is 100.00%\n",
      "Training cost in epoch 400 is 0.01600 and accuracy is 100.00%\n",
      "Validation set accuracy is 100.00%\n",
      "Training cost in epoch 600 is 0.00950 and accuracy is 100.00%\n",
      "Validation set accuracy is 100.00%\n",
      "Training cost in epoch 800 is 0.00698 and accuracy is 100.00%\n",
      "Validation set accuracy is 100.00%\n",
      "Training cost in epoch 1000 is 0.00560 and accuracy is 100.00%\n",
      "Validation set accuracy is 100.00%\n",
      "Final test cost is 0.00560\n",
      "Accuracy on training data is 100.00%, and accuracy on validation data is 100.00%\n"
     ]
    }
   ],
   "source": [
    "net = nn.NeuralNet((2,3,1), nn.QuadraticCost, nn.SigmoidActivation, nn.SigmoidActivation)\n",
    "net.initialize_variables()\n",
    "learning_rate = 0.1\n",
    "batch_size = 10\n",
    "lmda = 0\n",
    "epochs = 1001\n",
    "reporting_rate = 200\n",
    "print(\"Results for (2,3,1) neural network with quadratic cost and sigmoid activations\")\n",
    "training_cost, valid_cost = net.SGD(train_x, train_y, test_x, test_y, learning_rate, epochs, \n",
    "                                    reporting_rate, lmda, batch_size)\n",
    "print()\n",
    "\n",
    "net = nn.NeuralNet((2,3,1), nn.CrossEntropyCost, nn.SigmoidActivation, nn.SigmoidActivation)\n",
    "net.initialize_variables()\n",
    "learning_rate = 0.1\n",
    "batch_size = 10\n",
    "lmda = 0\n",
    "epochs = 1001\n",
    "reporting_rate = 200\n",
    "print(\"Results for (2,3,1) neural network with cross entropy cost and sigmoid activations\")\n",
    "training_cost, valid_cost = net.SGD(train_x, train_y, test_x, test_y, learning_rate, epochs, \n",
    "                                    reporting_rate, lmda, batch_size)"
   ]
  }
 ],
 "metadata": {
  "kernelspec": {
   "display_name": "Python 3",
   "language": "python",
   "name": "python3"
  },
  "language_info": {
   "codemirror_mode": {
    "name": "ipython",
    "version": 3
   },
   "file_extension": ".py",
   "mimetype": "text/x-python",
   "name": "python",
   "nbconvert_exporter": "python",
   "pygments_lexer": "ipython3",
   "version": "3.5.2"
  }
 },
 "nbformat": 4,
 "nbformat_minor": 0
}
